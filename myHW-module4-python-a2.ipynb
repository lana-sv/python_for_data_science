{
 "cells": [
  {
   "cell_type": "code",
   "execution_count": null,
   "id": "ea6695f8-e7d5-4c4c-af68-bccde7a569bd",
   "metadata": {},
   "outputs": [],
   "source": [
    "# myHW-module4-python-a2-bc-2213031903.ipynb   Numpy"
   ]
  },
  {
   "cell_type": "code",
   "execution_count": 2,
   "id": "bae2488a",
   "metadata": {},
   "outputs": [
    {
     "data": {
      "text/plain": [
       "array([[8, 5, 9],\n",
       "       [7, 5, 5],\n",
       "       [2, 9, 4]])"
      ]
     },
     "execution_count": 2,
     "metadata": {},
     "output_type": "execute_result"
    }
   ],
   "source": [
    "#task1:\n",
    "import numpy as np\n",
    "np.random.randint(2,10,9).reshape(3,3)"
   ]
  },
  {
   "cell_type": "code",
   "execution_count": 5,
   "id": "8d24d26f",
   "metadata": {},
   "outputs": [
    {
     "data": {
      "text/plain": [
       "array([10, 15, 20, 25, 30, 35, 40, 45])"
      ]
     },
     "execution_count": 5,
     "metadata": {},
     "output_type": "execute_result"
    }
   ],
   "source": [
    "#task2:\n",
    "a001 = np.arange(10,50,5)\n",
    "a001"
   ]
  },
  {
   "cell_type": "code",
   "execution_count": 7,
   "id": "877e729a",
   "metadata": {},
   "outputs": [
    {
     "data": {
      "text/plain": [
       "array([10., 15., 20., 25., 30., 35., 40., 45.])"
      ]
     },
     "execution_count": 7,
     "metadata": {},
     "output_type": "execute_result"
    }
   ],
   "source": [
    "a002=a001.astype(float)\n",
    "a002"
   ]
  },
  {
   "cell_type": "code",
   "execution_count": 11,
   "id": "f53b752d",
   "metadata": {},
   "outputs": [
    {
     "name": "stdout",
     "output_type": "stream",
     "text": [
      "[10 15 20 25 30 35 40 45]\n"
     ]
    }
   ],
   "source": [
    "print(a001)"
   ]
  },
  {
   "cell_type": "code",
   "execution_count": 16,
   "id": "fbdca098",
   "metadata": {},
   "outputs": [
    {
     "data": {
      "text/plain": [
       "array([10, 15, 20, 25, 30, 35, 40, 45, 50, 55, 60, 65, 70, 75])"
      ]
     },
     "execution_count": 16,
     "metadata": {},
     "output_type": "execute_result"
    }
   ],
   "source": [
    "a001=[10, 15, 20, 25, 30, 35, 40, 45]\n",
    "a004=[50,55,60,65,70,75]\n",
    "a008=np.append(a001,a004)\n",
    "a008\n",
    "\n",
    "#arr3 = np.append(arr1, arr2)"
   ]
  },
  {
   "cell_type": "code",
   "execution_count": 20,
   "id": "6644e08a",
   "metadata": {},
   "outputs": [
    {
     "data": {
      "text/plain": [
       "array([21, 27, 33, 39, 45, 51, 57, 63])"
      ]
     },
     "execution_count": 20,
     "metadata": {},
     "output_type": "execute_result"
    }
   ],
   "source": [
    "#task3:\n",
    "\n",
    "a001=[10, 15, 20, 25, 30, 35, 40, 45]\n",
    "\n",
    "a007=[11,12,13,14,15,16,17,18]\n",
    "sumArray=np.add(a001,a007)  \n",
    "sumArray  "
   ]
  },
  {
   "cell_type": "code",
   "execution_count": 23,
   "id": "333436c6",
   "metadata": {},
   "outputs": [
    {
     "data": {
      "text/plain": [
       "array([[75, 27, 41],\n",
       "       [48, 13, 36],\n",
       "       [70, 65, 79]])"
      ]
     },
     "execution_count": 23,
     "metadata": {},
     "output_type": "execute_result"
    }
   ],
   "source": [
    "#task4:\n",
    "\n",
    "array1 = np.random.randint(10,90,9).reshape(3,3)\n",
    "\n",
    "array1"
   ]
  },
  {
   "cell_type": "code",
   "execution_count": 24,
   "id": "4c615886",
   "metadata": {},
   "outputs": [
    {
     "data": {
      "text/plain": [
       "array([75, 27, 41])"
      ]
     },
     "execution_count": 24,
     "metadata": {},
     "output_type": "execute_result"
    }
   ],
   "source": [
    "\n",
    "array1[0]"
   ]
  },
  {
   "cell_type": "code",
   "execution_count": 25,
   "id": "dad27398",
   "metadata": {},
   "outputs": [
    {
     "data": {
      "text/plain": [
       "79"
      ]
     },
     "execution_count": 25,
     "metadata": {},
     "output_type": "execute_result"
    }
   ],
   "source": [
    "array1[2][2]"
   ]
  },
  {
   "cell_type": "code",
   "execution_count": null,
   "id": "7421b611",
   "metadata": {},
   "outputs": [],
   "source": []
  },
  {
   "cell_type": "code",
   "execution_count": null,
   "id": "36ec4096",
   "metadata": {},
   "outputs": [],
   "source": []
  }
 ],
 "metadata": {
  "kernelspec": {
   "display_name": "Python 3",
   "language": "python",
   "name": "python3"
  },
  "language_info": {
   "codemirror_mode": {
    "name": "ipython",
    "version": 3
   },
   "file_extension": ".py",
   "mimetype": "text/x-python",
   "name": "python",
   "nbconvert_exporter": "python",
   "pygments_lexer": "ipython3",
   "version": "3.8.12"
  }
 },
 "nbformat": 4,
 "nbformat_minor": 5
}
