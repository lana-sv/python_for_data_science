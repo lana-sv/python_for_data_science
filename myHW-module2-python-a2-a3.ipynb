{
 "cells": [
  {
   "cell_type": "code",
   "execution_count": null,
   "id": "d652eddd-edea-41ce-8964-344ea59f62b6",
   "metadata": {},
   "outputs": [],
   "source": [
    "# Homework:\n",
    "# module 2, assignment 2 - Function and Class:"
   ]
  },
  {
   "cell_type": "code",
   "execution_count": 1,
   "id": "e34458e0",
   "metadata": {},
   "outputs": [
    {
     "name": "stdout",
     "output_type": "stream",
     "text": [
      "Input a number to calculate the factiorial : 4\n",
      "24\n"
     ]
    }
   ],
   "source": [
    "#module 2, assignment 2:\n",
    "#task1: create function named factorial that only accept 1 argument. \n",
    "#Function should return factorial of this number\n",
    "\n",
    "def factorial(n):\n",
    "    if n == 0:\n",
    "        return 1\n",
    "    else:\n",
    "        return n * factorial(n-1)\n",
    "n=int(input(\"Input a number to calculate the factiorial : \"))\n",
    "print(factorial(n))"
   ]
  },
  {
   "cell_type": "code",
   "execution_count": 7,
   "id": "3e321756",
   "metadata": {},
   "outputs": [
    {
     "name": "stdout",
     "output_type": "stream",
     "text": [
      "string does not contain letter s\n"
     ]
    }
   ],
   "source": [
    "#task2:create function named check_string, check if user input string contains letter s. \n",
    "#If yes, print \"string contains letter s\". if not - print not.\n",
    "\n",
    "#check_string = \"string\"\n",
    "check_string = \"hello world\"\n",
    "\n",
    "if \"s\" in check_string:\n",
    "  print(\"string contains letter s\")\n",
    "  \n",
    "if \"s\" not in check_string:\n",
    "  print(\"string does not contain letter s\")"
   ]
  },
  {
   "cell_type": "code",
   "execution_count": 10,
   "id": "51925576",
   "metadata": {},
   "outputs": [
    {
     "name": "stdout",
     "output_type": "stream",
     "text": [
      "enter your student_id :222\n",
      "enter your student_name :lisa dobb\n",
      "printing from Student class:\n",
      "Student id: 222\n",
      "Student Name: lisa dobb\n"
     ]
    }
   ],
   "source": [
    "#task3:create class named student and inside it create function named fun1 \n",
    "#that accepts user defined input and returns the value\n",
    "#create another method named message() that prints the user defined input from fun1\n",
    "\n",
    "class Student:\n",
    "    student_id = input('enter your student_id :')\n",
    "    student_name = input('enter your student_name :')\n",
    "    def fun1():\n",
    "        print(f'Student id: {Student.student_id}\\nStudent Name: {Student.student_name}')\n",
    "print(\"printing from Student class:\")\n",
    "Student.fun1()"
   ]
  },
  {
   "cell_type": "code",
   "execution_count": 12,
   "id": "29b9e484",
   "metadata": {},
   "outputs": [
    {
     "name": "stdout",
     "output_type": "stream",
     "text": [
      "100\n"
     ]
    }
   ],
   "source": [
    "#task4:create lambda function that should double or multiply the number by 2\n",
    "#store the lambda function in the variable named double_num\n",
    "\n",
    "double_num = lambda x : x*x\n",
    "print (double_num (10))"
   ]
  },
  {
   "cell_type": "code",
   "execution_count": 18,
   "id": "eb3f0449",
   "metadata": {},
   "outputs": [
    {
     "name": "stdout",
     "output_type": "stream",
     "text": [
      "Yes\n"
     ]
    }
   ],
   "source": [
    "#task5:take user input string and check if it is a palindrome or not\n",
    "\n",
    "def isPalindrome(s):\n",
    "    return s == s[::-1]\n",
    " \n",
    "s = \"madam\"       #noon, madam, kayak, level, anna\n",
    "#s='hello people'\n",
    "\n",
    "answer = isPalindrome(s)\n",
    " \n",
    "if answer:\n",
    "    print(\"Yes\")\n",
    "else:\n",
    "    print(\"No\")"
   ]
  },
  {
   "cell_type": "code",
   "execution_count": null,
   "id": "97689634-0af4-49f0-9166-8c4a509d04d3",
   "metadata": {},
   "outputs": [],
   "source": [
    "# module 2, assignment 3 - Function:"
   ]
  },
  {
   "cell_type": "code",
   "execution_count": 7,
   "id": "53ed9b29",
   "metadata": {},
   "outputs": [
    {
     "name": "stdout",
     "output_type": "stream",
     "text": [
      "this is function 1 in super class\n"
     ]
    }
   ],
   "source": [
    "#module 2, assignment 3:\n",
    "#task1: \n",
    "#create class named Super and inside of it create function named fun1. \n",
    "#Inside fun1 pass message 'this is function 1 in super class'\n",
    "\n",
    "class Super: \n",
    "\n",
    "    def fun1(self):     \n",
    "        print('this is function 1 in super class')\n",
    "        \n",
    "sup1 = Super()\n",
    "sup1.fun1()        "
   ]
  },
  {
   "cell_type": "code",
   "execution_count": 13,
   "id": "3fec542c",
   "metadata": {},
   "outputs": [
    {
     "name": "stdout",
     "output_type": "stream",
     "text": [
      "this is function 1 in the Modified super class\n",
      "this is function 2 in the Modified super class\n"
     ]
    }
   ],
   "source": [
    "#module 2, assignment 3:\n",
    "#task2:\n",
    "#create class named Modified_Super and inherit it from Super class\n",
    "#inside of Modified_Super create function named fun1. \n",
    "#Inside fun1 pass message 'this is function 1 in the Modified super class'\n",
    "\n",
    "#inside of Modified_Super create function named fun2. \n",
    "#Inside fun2 pass message 'this is function 2 in the Modified super class'\n",
    "\n",
    "#create object of Modified_Super class and call the fun1()\n",
    "\n",
    "\n",
    "class Super: \n",
    "\n",
    "    def fun1(self):     \n",
    "        print('this is function 1 in super class')\n",
    "        \n",
    "class Modified_super(Super): \n",
    "    \n",
    "    def fun1(self):     \n",
    "        print('this is function 1 in the Modified super class')\n",
    "        \n",
    "    def fun2(self):     \n",
    "        print('this is function 2 in the Modified super class')\n",
    "        \n",
    "sup2 = Modified_super()\n",
    "sup2.fun1() \n",
    "sup3 = Modified_super()\n",
    "sup3.fun2()"
   ]
  },
  {
   "cell_type": "code",
   "execution_count": null,
   "id": "0291b9f4",
   "metadata": {},
   "outputs": [],
   "source": [
    "#Example from the live class:\n",
    "\n",
    "class A:\n",
    "    def m1(self):\n",
    "        print('Parent class functionality')\n",
    "class B(A):\n",
    "    def m2(self):\n",
    "        print('Child class method functionality')\n",
    "        \n",
    "# c is reference variable to call B to create an object:\n",
    "\n",
    "c = B()\n",
    "c.m1()\n",
    "c.m2()"
   ]
  },
  {
   "cell_type": "code",
   "execution_count": 17,
   "id": "46c2d170",
   "metadata": {},
   "outputs": [
    {
     "name": "stdout",
     "output_type": "stream",
     "text": [
      "two arguments method\n"
     ]
    }
   ],
   "source": [
    "#module 2, assignment 3:\n",
    "#task3: create 2 methods called Hello\n",
    "#in first Hello method pass 1 arg and message \"this func has only 1 arg\"\n",
    "\n",
    "#in second Hello method pass 2 args and message \"this func is having 2 args\"\n",
    "\n",
    "#try to call both methods and analyse output\n",
    "\n",
    "class Hello:\n",
    "    def m1(self):\n",
    "        print('no arguments')\n",
    "    def m1(self,a):\n",
    "        print('one arg method')\n",
    "    def m1(self,a,b):\n",
    "        print('two arguments method')\n",
    "        \n",
    "t1=Hello()\n",
    "t1.m1(10,20)\n",
    "\n",
    "#t2=Hello()\n",
    "#t2.m1(10)"
   ]
  },
  {
   "cell_type": "code",
   "execution_count": 24,
   "id": "99e61331",
   "metadata": {},
   "outputs": [
    {
     "name": "stdout",
     "output_type": "stream",
     "text": [
      "55\n"
     ]
    }
   ],
   "source": [
    "#module 2, assignment 3:\n",
    "#task4: create method called Sum that accepts multiple user inputs\n",
    "#add user defined input values using for loop and function should return addition of the numbers\n",
    "\n",
    "numbers = [1,2,3,4,5,6,7,8,9,10] \n",
    "  \n",
    "# start parameter is not provided \n",
    "Sum = sum(numbers) \n",
    "print(Sum) "
   ]
  },
  {
   "cell_type": "code",
   "execution_count": 26,
   "id": "04daefa6",
   "metadata": {},
   "outputs": [
    {
     "name": "stdout",
     "output_type": "stream",
     "text": [
      "Enter Number to calculate sum10\n",
      "Sum of first  10 numbers is:  55\n"
     ]
    }
   ],
   "source": [
    "n = input(\"Enter Number to calculate sum\")\n",
    "n = int (n)\n",
    "sum = 0\n",
    "for num in range(0, n+1, 1):\n",
    "    sum = sum+num\n",
    "print(\"Sum of first \", n, \"numbers is: \", sum )"
   ]
  },
  {
   "cell_type": "code",
   "execution_count": 46,
   "id": "5c6eb98b",
   "metadata": {},
   "outputs": [
    {
     "name": "stdout",
     "output_type": "stream",
     "text": [
      "Encapsulation value:  10\n"
     ]
    }
   ],
   "source": [
    "#module 2, assignment 3:\n",
    "#task5:\n",
    "#create class Encapsulation\n",
    "#inside this class create Constructor. inside initialize originanlValue var as 10\n",
    "\n",
    "#define a function named Value and it should return var we initizlized in the constructor\n",
    "\n",
    "#now create second function named setValue and pass and arg named newValue. This function should replace\n",
    "#the value of originalValue by the value of newValue var\n",
    "\n",
    "\n",
    "class Encapsulation:\n",
    "    def __init__(self,value):\n",
    "        self.value=value\n",
    "        \n",
    "    def display(self):\n",
    "        print('Encapsulation value: ',self.value)\n",
    "         \n",
    "class Encaps(Encapsulation):\n",
    "    \n",
    "    def __init__(self,value):   #over loading here\n",
    "        super().__init__(newvalue)\n",
    "        self.newvalue=newvalue    \n",
    "        \n",
    "    def display(self):\n",
    "        print('Encapsulation new value: ',self.newvalue)\n",
    "        \n",
    "#create an object:\n",
    "\n",
    "e1=Encapsulation(10)\n",
    "e1.display()"
   ]
  }
 ],
 "metadata": {
  "kernelspec": {
   "display_name": "Python 3",
   "language": "python",
   "name": "python3"
  },
  "language_info": {
   "codemirror_mode": {
    "name": "ipython",
    "version": 3
   },
   "file_extension": ".py",
   "mimetype": "text/x-python",
   "name": "python",
   "nbconvert_exporter": "python",
   "pygments_lexer": "ipython3",
   "version": "3.8.12"
  }
 },
 "nbformat": 4,
 "nbformat_minor": 5
}
