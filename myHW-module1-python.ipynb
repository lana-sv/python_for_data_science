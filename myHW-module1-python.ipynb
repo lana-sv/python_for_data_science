{
 "cells": [
  {
   "cell_type": "code",
   "execution_count": 1,
   "id": "12602f76",
   "metadata": {},
   "outputs": [],
   "source": [
    "import math\n",
    "import numpy as np"
   ]
  },
  {
   "cell_type": "code",
   "execution_count": 15,
   "id": "f88daec7",
   "metadata": {},
   "outputs": [],
   "source": [
    "#Assignment 1:\n",
    "\n",
    "a = 10\n",
    "b = 20"
   ]
  },
  {
   "cell_type": "code",
   "execution_count": 3,
   "id": "83b632ad",
   "metadata": {},
   "outputs": [
    {
     "data": {
      "text/plain": [
       "int"
      ]
     },
     "execution_count": 3,
     "metadata": {},
     "output_type": "execute_result"
    }
   ],
   "source": [
    "type(a)"
   ]
  },
  {
   "cell_type": "code",
   "execution_count": 4,
   "id": "bec087f7",
   "metadata": {},
   "outputs": [
    {
     "data": {
      "text/plain": [
       "int"
      ]
     },
     "execution_count": 4,
     "metadata": {},
     "output_type": "execute_result"
    }
   ],
   "source": [
    "type(b)"
   ]
  },
  {
   "cell_type": "code",
   "execution_count": 16,
   "id": "ec21422c",
   "metadata": {},
   "outputs": [
    {
     "name": "stdout",
     "output_type": "stream",
     "text": [
      "b is greater than a\n"
     ]
    }
   ],
   "source": [
    "#check which number is greate a or b with if statement:\n",
    "\n",
    "if a > b:\n",
    "    print('a is greater than b')\n",
    "elif b > a:\n",
    "    print('b is greater than a')\n",
    "elif a == b:\n",
    "    print('a is equal to b')\n",
    "else:\n",
    "    print('unknown error occured')\n",
    "\n"
   ]
  },
  {
   "cell_type": "code",
   "execution_count": null,
   "id": "7625e320",
   "metadata": {},
   "outputs": [],
   "source": [
    "#Assignment 2:\n",
    "#take 3 user inputs and print the greatest number form those inputs with if-else condition"
   ]
  },
  {
   "cell_type": "code",
   "execution_count": 23,
   "id": "f84cacf7",
   "metadata": {},
   "outputs": [
    {
     "name": "stdout",
     "output_type": "stream",
     "text": [
      "Enter your Business lunch order: soup, or hot-dog, or pizzapizza\n",
      "You ordered pizza, it is available for pick up right now in the Lobby\n"
     ]
    }
   ],
   "source": [
    "lunch = input('Enter your Business lunch order: soup, or hot-dog, or pizza')\n",
    "\n",
    "if lunch == 'soup':\n",
    "    print('You ordered soup, it will be delivered to you in 20 minutes')  \n",
    "elif lunch == 'hot-dog':\n",
    "    print('You ordered hot-dog, it will be delivered to you in 10 minutes')\n",
    "elif lunch == 'pizza':\n",
    "    print('You ordered pizza, it is available for pick up right now in the Lobby') \n",
    "else:\n",
    "    print('food name is not valid')\n",
    "    print('do you have lunch from home today?')"
   ]
  },
  {
   "cell_type": "code",
   "execution_count": 25,
   "id": "3ce786a0",
   "metadata": {},
   "outputs": [
    {
     "name": "stdout",
     "output_type": "stream",
     "text": [
      "1\n",
      "2\n",
      "3\n",
      "4\n",
      "5\n",
      "6\n",
      "7\n",
      "8\n",
      "9\n",
      "10\n"
     ]
    }
   ],
   "source": [
    "# Assignment 3 (Loops2): print numbers from 1 to 10 using while loop:\n",
    "        \n",
    "x = 0\n",
    "while x<=9:\n",
    "    x=x+1\n",
    "    print(x)"
   ]
  },
  {
   "cell_type": "code",
   "execution_count": 32,
   "id": "9972f1f0",
   "metadata": {},
   "outputs": [
    {
     "name": "stdout",
     "output_type": "stream",
     "text": [
      "10\n",
      "4\n",
      "26\n",
      "4\n",
      "24\n",
      "54\n"
     ]
    }
   ],
   "source": [
    "# Assignment 3 (Loops2):\n",
    "#create list [10,23,4,26,4,75,24,54] fetch even numbers and print them:\n",
    "\n",
    "\n",
    "listA =  [10,23,4,26,4,75,24,54] \n",
    "for num in listA:\n",
    "    while num %2==0:\n",
    "        print(num)\n",
    "        num=num+1\n",
    "    "
   ]
  },
  {
   "cell_type": "code",
   "execution_count": null,
   "id": "e875cd85",
   "metadata": {},
   "outputs": [],
   "source": [
    "# Assignment 3 (Loops3): create array that has user assigned inputs and use for loop \n",
    "#to fetch and print prime numbers:"
   ]
  },
  {
   "cell_type": "code",
   "execution_count": 62,
   "id": "74d0626b",
   "metadata": {},
   "outputs": [
    {
     "name": "stdout",
     "output_type": "stream",
     "text": [
      "Enter six numbers one by one, press enter after each entry: 12\n",
      "12 is not a prime number  User list of numbers:  []\n",
      "[12]\n"
     ]
    }
   ],
   "source": [
    "# Program to check if a number is prime or not:\n",
    "\n",
    "\n",
    "#nums = int(input(\"Enter number of elements : \")) \n",
    "   \n",
    "#a = list(map(int,input(\"\\nEnter the numbers : \").strip().split()))[:n] \n",
    "  \n",
    "#print(\"\\nList is - \", a)\n",
    "\n",
    "num = int(input('Enter six numbers one by one, press enter after each entry: '))\n",
    "user_list=[] \n",
    "#num = 11\n",
    "\n",
    "if num > 1:\n",
    "    for i in range(1,500):\n",
    "        if (num % i) == 0:\n",
    "            print(num,\"is not a prime number \", 'User list of numbers: ',user_list)\n",
    "            user_list.append(num)\n",
    "            print(user_list)\n",
    "            break\n",
    "    else:\n",
    "        print(num,\"is a prime number\")\n",
    "else:\n",
    "    print(num,\"is not a prime number\")"
   ]
  },
  {
   "cell_type": "code",
   "execution_count": 10,
   "id": "ddb40c9b",
   "metadata": {},
   "outputs": [
    {
     "name": "stdout",
     "output_type": "stream",
     "text": [
      "1\n",
      "4\n",
      "9\n",
      "16\n",
      "25\n",
      "36\n",
      "49\n",
      "64\n",
      "81\n",
      "100\n"
     ]
    }
   ],
   "source": [
    "#case study1: task 1: create list of squares from 1 to 10:\n",
    "\n",
    "for i in range (1,11):\n",
    "    print(i*i)"
   ]
  },
  {
   "cell_type": "code",
   "execution_count": 21,
   "id": "c20fe1bb",
   "metadata": {},
   "outputs": [
    {
     "name": "stdout",
     "output_type": "stream",
     "text": [
      "leap year\n"
     ]
    }
   ],
   "source": [
    "#case study 1: task 2: check if a year is a leap year:\n",
    "\n",
    "    \n",
    "year=2024\n",
    "    \n",
    "if year % 4 != 0:\n",
    "        print(\"not a leap year\")\n",
    "elif year % 100 != 0:\n",
    "        print(\"leap year\")\n",
    "elif year % 400 != 0:\n",
    "        print(\"not a leap year\")\n",
    "else:\n",
    "        print(\"leap year\")"
   ]
  },
  {
   "cell_type": "code",
   "execution_count": 50,
   "id": "a2ea9e7c",
   "metadata": {},
   "outputs": [
    {
     "name": "stdout",
     "output_type": "stream",
     "text": [
      "list of even eumbers in this even_array\n",
      "10  40  70  22  34  88  96  "
     ]
    }
   ],
   "source": [
    "#case study 1: task 3: take array and return another array - the number of first affay that are even:\n",
    "import numpy as np\n",
    "\n",
    "even_array = np.array([10,23,99,40,70,22,19,34,65,77,88,96])\n",
    "\n",
    "print(\"list of even eumbers in this even_array\")\n",
    "for i in range(len(even_array)):\n",
    "    if (even_array[i] % 2 == 0):\n",
    "        print(even_array[i], end = \"  \")\n"
   ]
  },
  {
   "cell_type": "code",
   "execution_count": 52,
   "id": "09b63274",
   "metadata": {},
   "outputs": [
    {
     "name": "stdout",
     "output_type": "stream",
     "text": [
      "Array1:  [10 23 99 40 70 22 19 34 65 77 88 96]\n",
      "Array2:  [10, 30, 40, 70]\n",
      "members of first array that present in second array:\n",
      "[10 40 70]\n"
     ]
    }
   ],
   "source": [
    "#case study 1: task 4: take 2 arrays and print members of first array that present in second array:\n",
    "\n",
    "import numpy as np\n",
    "\n",
    "array1 = np.array([10,23,99,40,70,22,19,34,65,77,88,96])\n",
    "print(\"Array1: \",array1)\n",
    "array2 = [10, 30, 40, 70]\n",
    "print(\"Array2: \",array2)\n",
    "print(\"members of first array that present in second array:\")\n",
    "print(np.intersect1d(array1, array2))"
   ]
  }
 ],
 "metadata": {
  "kernelspec": {
   "display_name": "Python 3",
   "language": "python",
   "name": "python3"
  },
  "language_info": {
   "codemirror_mode": {
    "name": "ipython",
    "version": 3
   },
   "file_extension": ".py",
   "mimetype": "text/x-python",
   "name": "python",
   "nbconvert_exporter": "python",
   "pygments_lexer": "ipython3",
   "version": "3.8.12"
  }
 },
 "nbformat": 4,
 "nbformat_minor": 5
}
