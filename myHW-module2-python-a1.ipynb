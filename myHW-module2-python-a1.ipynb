{
 "cells": [
  {
   "cell_type": "code",
   "execution_count": 2,
   "id": "eb34f47f",
   "metadata": {},
   "outputs": [
    {
     "name": "stdout",
     "output_type": "stream",
     "text": [
      "list index out of range\n",
      "exception here\n"
     ]
    }
   ],
   "source": [
    "#Assignment 1:\n",
    "#task1: with help of try and inbuilt exception, display the exception:\n",
    "\n",
    "try:\n",
    "    list01 = ['Alik', 'Bill', 'Cora']\n",
    "    print(list01[3])\n",
    "except Exception as e:\n",
    "    print(e)\n",
    "print('exception here')\n",
    "    "
   ]
  },
  {
   "cell_type": "code",
   "execution_count": 6,
   "id": "89772b6d",
   "metadata": {},
   "outputs": [
    {
     "name": "stdout",
     "output_type": "stream",
     "text": [
      "Enter first number:5\n",
      "Enter second number:0\n",
      "float division by zero\n",
      "exception here\n"
     ]
    }
   ],
   "source": [
    "# task2: take 2 user inputs and pass in try block. if user input is 0, throw zero division error exception;\n",
    "def input_numbers():\n",
    "\n",
    "    a = float(input(\"Enter first number:\"))\n",
    "    b = float(input(\"Enter second number:\"))\n",
    "    return a, b\n",
    "try:\n",
    "    x, y = input_numbers()\n",
    "    print(f\"{x} / {y} is {x/y}\")\n",
    "except Exception as e:\n",
    "    print(e)\n",
    "    print('exception here')"
   ]
  },
  {
   "cell_type": "code",
   "execution_count": 11,
   "id": "457e3daf",
   "metadata": {},
   "outputs": [
    {
     "name": "stdout",
     "output_type": "stream",
     "text": [
      "An exception occurred : inf\n"
     ]
    }
   ],
   "source": [
    "#task 3: import math package, print math.exp(50000). \n",
    "#Use InbuiltOverflowError exception in math.exp() and print the exception\n",
    "import math\n",
    "\n",
    "try:\n",
    "    a = math.exp(50000)\n",
    "except OverflowError:\n",
    "    a = float('inf')\n",
    "    print(\"An exception occurred :\",a)"
   ]
  },
  {
   "cell_type": "code",
   "execution_count": 14,
   "id": "32383696",
   "metadata": {},
   "outputs": [
    {
     "name": "stdout",
     "output_type": "stream",
     "text": [
      "\u001b[5m\u001b[7m\u001b[31mHello, coloful World!\u001b[0m\n",
      "\u001b[41m\u001b[32mHello, coloful World!\u001b[0m\n",
      "\u001b[46m\u001b[31mHello, coloful World!\u001b[0m\n",
      "\u001b[46m\u001b[31mHello, coloful World!\u001b[0m\n",
      "\u001b[35m0\u001b[0m \u001b[35m1\u001b[0m \u001b[35m2\u001b[0m \u001b[35m3\u001b[0m \u001b[35m4\u001b[0m \u001b[35m5\u001b[0m \u001b[35m6\u001b[0m \u001b[35m7\u001b[0m \u001b[35m8\u001b[0m \u001b[35m9\u001b[0m "
     ]
    },
    {
     "name": "stderr",
     "output_type": "stream",
     "text": [
      "\u001b[1m\u001b[31mAttention!\u001b[0m\n"
     ]
    }
   ],
   "source": [
    "#task 4: install termcolor package and import this package to provide the colors to the print statement\n",
    "import sys\n",
    "from termcolor import colored, cprint\n",
    " \n",
    "text = colored('Hello, coloful World!', 'red', attrs=['reverse', 'blink'])\n",
    "print(text)\n",
    "cprint('Hello, coloful World!', 'green', 'on_red')\n",
    " \n",
    "print_red_on_cyan = lambda x: cprint(x, 'red', 'on_cyan')\n",
    "print_red_on_cyan('Hello, coloful World!')\n",
    "print_red_on_cyan('Hello, coloful World!')\n",
    " \n",
    "for i in range(10):\n",
    "    cprint(i, 'magenta', end=' ')\n",
    " \n",
    "cprint(\"Attention!\", 'red', attrs=['bold'], file=sys.stderr)"
   ]
  },
  {
   "cell_type": "code",
   "execution_count": null,
   "id": "1156b0b8",
   "metadata": {},
   "outputs": [
    {
     "name": "stdout",
     "output_type": "stream",
     "text": [
      "Enter a number: 2\n",
      "This value is too small, try again!\n",
      "\n",
      "Enter a number: 11\n",
      "This value is too large, try again!\n",
      "\n",
      "Enter a number: 8\n",
      "This value is too small, try again!\n",
      "\n"
     ]
    }
   ],
   "source": [
    "# task 5: create your own exception with the help of class and functions:\n",
    "\n",
    "# define Python user-defined exceptions\n",
    "class Error(Exception):\n",
    "    #Base class for other exceptions\n",
    "    pass\n",
    "\n",
    "\n",
    "class ValueTooSmallError(Error):\n",
    "    #Raised when the input value is too small\n",
    "    pass\n",
    "\n",
    "\n",
    "class ValueTooLargeError(Error):\n",
    "    #Raised when the input value is too large\n",
    "    pass\n",
    "\n",
    "\n",
    "# you need to guess this number\n",
    "number = 10\n",
    "\n",
    "# user guesses a number until he/she gets it right\n",
    "while True:\n",
    "    try:\n",
    "        i_num = int(input(\"Enter a number: \"))\n",
    "        if i_num < number:\n",
    "            raise ValueTooSmallError\n",
    "        elif i_num > number:\n",
    "            raise ValueTooLargeError\n",
    "        break\n",
    "    except ValueTooSmallError:\n",
    "        print(\"This value is too small, try again!\")\n",
    "        print()\n",
    "    except ValueTooLargeError:\n",
    "        print(\"This value is too large, try again!\")\n",
    "        print()\n",
    "\n",
    "print(\"Congratulations! You guessed it correctly.\")"
   ]
  },
  {
   "cell_type": "code",
   "execution_count": null,
   "id": "84f98352",
   "metadata": {},
   "outputs": [],
   "source": []
  },
  {
   "cell_type": "code",
   "execution_count": null,
   "id": "6e57deb9",
   "metadata": {},
   "outputs": [],
   "source": []
  },
  {
   "cell_type": "code",
   "execution_count": null,
   "id": "99629eb6",
   "metadata": {},
   "outputs": [],
   "source": []
  },
  {
   "cell_type": "code",
   "execution_count": null,
   "id": "d3e646fb",
   "metadata": {},
   "outputs": [],
   "source": []
  },
  {
   "cell_type": "code",
   "execution_count": null,
   "id": "24c64a2d",
   "metadata": {},
   "outputs": [],
   "source": []
  }
 ],
 "metadata": {
  "kernelspec": {
   "display_name": "Python 3",
   "language": "python",
   "name": "python3"
  },
  "language_info": {
   "codemirror_mode": {
    "name": "ipython",
    "version": 3
   },
   "file_extension": ".py",
   "mimetype": "text/x-python",
   "name": "python",
   "nbconvert_exporter": "python",
   "pygments_lexer": "ipython3",
   "version": "3.8.12"
  }
 },
 "nbformat": 4,
 "nbformat_minor": 5
}
