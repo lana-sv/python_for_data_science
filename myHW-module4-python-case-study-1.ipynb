{
 "cells": [
  {
   "cell_type": "code",
   "execution_count": 2,
   "id": "9757c8ea",
   "metadata": {},
   "outputs": [
    {
     "data": {
      "text/plain": [
       "array([[0.30951641, 0.32466329, 0.00446644],\n",
       "       [0.45571807, 0.22903111, 0.27714722],\n",
       "       [0.75319215, 0.91409811, 0.00347278]])"
      ]
     },
     "execution_count": 2,
     "metadata": {},
     "output_type": "execute_result"
    }
   ],
   "source": [
    "#myHW-module4-python-case-study-1-bc-2213031903\n",
    "\n",
    "#numpy assignment\n",
    "#task1: create a function that takes dimentions as tuple and returns numpy array:\n",
    "\n",
    "import numpy as np\n",
    "    \n",
    "np.random.random((3,3))"
   ]
  },
  {
   "cell_type": "code",
   "execution_count": 4,
   "id": "0ea71d3b",
   "metadata": {},
   "outputs": [
    {
     "data": {
      "text/plain": [
       "array([[0.85675728, 0.69738065, 0.06970843],\n",
       "       [0.09148644, 0.07396525, 0.83635354],\n",
       "       [0.84997799, 0.16394351, 0.8938456 ]])"
      ]
     },
     "execution_count": 4,
     "metadata": {},
     "output_type": "execute_result"
    }
   ],
   "source": [
    "aa=np.random.random((3,3))\n",
    "aa"
   ]
  },
  {
   "cell_type": "code",
   "execution_count": 5,
   "id": "f45f7dbc",
   "metadata": {},
   "outputs": [
    {
     "data": {
      "text/plain": [
       "array([[0.00652382, 0.56436336, 0.35973624],\n",
       "       [0.71818498, 0.29171514, 0.59780866],\n",
       "       [0.63996878, 0.21456717, 0.35522884]])"
      ]
     },
     "execution_count": 5,
     "metadata": {},
     "output_type": "execute_result"
    }
   ],
   "source": [
    "bb=np.random.random((3,3))\n",
    "bb"
   ]
  },
  {
   "cell_type": "code",
   "execution_count": 6,
   "id": "b5a7052a",
   "metadata": {},
   "outputs": [
    {
     "data": {
      "text/plain": [
       "array([[0.8632811 , 1.26174401, 0.42944467],\n",
       "       [0.80967143, 0.36568039, 1.4341622 ],\n",
       "       [1.48994677, 0.37851068, 1.24907444]])"
      ]
     },
     "execution_count": 6,
     "metadata": {},
     "output_type": "execute_result"
    }
   ],
   "source": [
    "#task2:\n",
    "\n",
    "aa+bb"
   ]
  },
  {
   "cell_type": "code",
   "execution_count": 10,
   "id": "a8e51394",
   "metadata": {},
   "outputs": [],
   "source": [
    "#task3:\n",
    "\n",
    "aaa=np.array([[0,5,10],[10,15,20],[20,25,30],[30,35,40]])\n",
    "bbb=np.array([0,1,2])"
   ]
  },
  {
   "cell_type": "code",
   "execution_count": 11,
   "id": "7008cbb5",
   "metadata": {},
   "outputs": [
    {
     "data": {
      "text/plain": [
       "array([[ 0,  5, 10],\n",
       "       [10, 15, 20],\n",
       "       [20, 25, 30],\n",
       "       [30, 35, 40]])"
      ]
     },
     "execution_count": 11,
     "metadata": {},
     "output_type": "execute_result"
    }
   ],
   "source": [
    "aaa"
   ]
  },
  {
   "cell_type": "code",
   "execution_count": 15,
   "id": "edc945b0",
   "metadata": {},
   "outputs": [
    {
     "data": {
      "text/plain": [
       "array([[ 0,  5, 10],\n",
       "       [10, 15, 20]])"
      ]
     },
     "execution_count": 15,
     "metadata": {},
     "output_type": "execute_result"
    }
   ],
   "source": [
    "aaa[0:2]     #takes first 2 rows"
   ]
  },
  {
   "cell_type": "code",
   "execution_count": 16,
   "id": "b96aa5e0",
   "metadata": {},
   "outputs": [
    {
     "data": {
      "text/plain": [
       "array([[ 0,  5],\n",
       "       [10, 15]])"
      ]
     },
     "execution_count": 16,
     "metadata": {},
     "output_type": "execute_result"
    }
   ],
   "source": [
    "aaa[0:2,0:2]   #takes first 2 rows and first 2 columns"
   ]
  },
  {
   "cell_type": "code",
   "execution_count": null,
   "id": "88eff8ae",
   "metadata": {},
   "outputs": [],
   "source": []
  }
 ],
 "metadata": {
  "kernelspec": {
   "display_name": "Python 3",
   "language": "python",
   "name": "python3"
  },
  "language_info": {
   "codemirror_mode": {
    "name": "ipython",
    "version": 3
   },
   "file_extension": ".py",
   "mimetype": "text/x-python",
   "name": "python",
   "nbconvert_exporter": "python",
   "pygments_lexer": "ipython3",
   "version": "3.8.12"
  }
 },
 "nbformat": 4,
 "nbformat_minor": 5
}
