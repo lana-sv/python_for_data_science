{
 "cells": [
  {
   "cell_type": "code",
   "execution_count": null,
   "id": "4f0680c8-46ae-4f2b-b507-7bd7bc509213",
   "metadata": {},
   "outputs": [],
   "source": [
    "# my HomeWork-module2-python-a5-bc-2213031903.ipynb"
   ]
  },
  {
   "cell_type": "code",
   "execution_count": 2,
   "id": "e1d7bed9",
   "metadata": {},
   "outputs": [
    {
     "name": "stdout",
     "output_type": "stream",
     "text": [
      "parent method func-ty\n",
      "parent var is 10\n",
      "child meth fuct-ty\n",
      "child var is 20\n",
      "sub-child method func-ty - grandchild\n",
      "grandchild var is 30\n"
     ]
    }
   ],
   "source": [
    "#myHW-module2-python-a5-bc-2213031903 inheritance:\n",
    "\n",
    "#task1:\n",
    "\n",
    "class Parent_class:\n",
    "    def m1(self):\n",
    "        print('parent method func-ty')\n",
    "        print('parent var is 10')\n",
    "        \n",
    "class Child_class(Parent_class):\n",
    "    def m2(self):\n",
    "        print('child meth fuct-ty')\n",
    "        print('child var is 20')\n",
    "        \n",
    "class Child_class2(Child_class):\n",
    "    def m3(self):\n",
    "        print('sub-child method func-ty - grandchild')\n",
    "        print('grandchild var is 30')\n",
    "        \n",
    "#no wwe create an object c:\n",
    "\n",
    "c = Child_class2()\n",
    "c.m1()\n",
    "c.m2()\n",
    "c.m3()\n",
    "    "
   ]
  },
  {
   "cell_type": "code",
   "execution_count": 22,
   "id": "e4d97fc0",
   "metadata": {},
   "outputs": [
    {
     "ename": "TypeError",
     "evalue": "Cannot create a consistent method resolution\norder (MRO) for bases Person, Student",
     "output_type": "error",
     "traceback": [
      "\u001b[0;31m---------------------------------------------------------------------------\u001b[0m",
      "\u001b[0;31mTypeError\u001b[0m                                 Traceback (most recent call last)",
      "\u001b[0;32m<ipython-input-22-da4087fc2079>\u001b[0m in \u001b[0;36m<module>\u001b[0;34m\u001b[0m\n\u001b[1;32m     19\u001b[0m         \u001b[0mprint\u001b[0m\u001b[0;34m(\u001b[0m\u001b[0;34m'id: '\u001b[0m\u001b[0;34m,\u001b[0m\u001b[0mself\u001b[0m\u001b[0;34m.\u001b[0m\u001b[0mid\u001b[0m\u001b[0;34m)\u001b[0m\u001b[0;34m\u001b[0m\u001b[0;34m\u001b[0m\u001b[0m\n\u001b[1;32m     20\u001b[0m \u001b[0;34m\u001b[0m\u001b[0m\n\u001b[0;32m---> 21\u001b[0;31m \u001b[0;32mclass\u001b[0m \u001b[0mTrainee\u001b[0m\u001b[0;34m(\u001b[0m\u001b[0mPerson\u001b[0m\u001b[0;34m,\u001b[0m\u001b[0mStudent\u001b[0m\u001b[0;34m)\u001b[0m\u001b[0;34m:\u001b[0m\u001b[0;34m\u001b[0m\u001b[0;34m\u001b[0m\u001b[0m\n\u001b[0m\u001b[1;32m     22\u001b[0m     \u001b[0;32mdef\u001b[0m \u001b[0m__init__\u001b[0m\u001b[0;34m(\u001b[0m\u001b[0mself\u001b[0m\u001b[0;34m,\u001b[0m\u001b[0mname\u001b[0m\u001b[0;34m,\u001b[0m\u001b[0mage\u001b[0m\u001b[0;34m,\u001b[0m\u001b[0myear\u001b[0m\u001b[0;34m,\u001b[0m\u001b[0mid\u001b[0m\u001b[0;34m)\u001b[0m\u001b[0;34m:\u001b[0m\u001b[0;34m\u001b[0m\u001b[0;34m\u001b[0m\u001b[0m\n\u001b[1;32m     23\u001b[0m         \u001b[0msuper\u001b[0m\u001b[0;34m(\u001b[0m\u001b[0;34m)\u001b[0m\u001b[0;34m.\u001b[0m\u001b[0m__init__\u001b[0m\u001b[0;34m(\u001b[0m\u001b[0mself\u001b[0m\u001b[0;34m,\u001b[0m\u001b[0mname\u001b[0m\u001b[0;34m,\u001b[0m\u001b[0mage\u001b[0m\u001b[0;34m,\u001b[0m\u001b[0myear\u001b[0m\u001b[0;34m,\u001b[0m\u001b[0mid\u001b[0m\u001b[0;34m)\u001b[0m\u001b[0;34m\u001b[0m\u001b[0;34m\u001b[0m\u001b[0m\n",
      "\u001b[0;31mTypeError\u001b[0m: Cannot create a consistent method resolution\norder (MRO) for bases Person, Student"
     ]
    }
   ],
   "source": [
    "#task 2:\n",
    "class Person:\n",
    "    def __init__(self,name,age):\n",
    "        self.name=name\n",
    "        self.age=age\n",
    "        \n",
    "    def details(self):\n",
    "        print('Name: ',self.name)\n",
    "        print('Age: ',self.age)\n",
    "        \n",
    "class Student(Person):\n",
    "    def __init__(self,year,id):\n",
    "        self.year=year\n",
    "        self.id=id\n",
    "        \n",
    "    def details(self):\n",
    "        super().details()\n",
    "        print('year: ',self.year)\n",
    "        print('id: ',self.id)\n",
    "        \n",
    "class Trainee(Person,Student):\n",
    "    def __init__(self,name,age,year,id):\n",
    "        super().__init__(self,name,age,year,id)\n",
    "        self.name=name\n",
    "        self.age=age\n",
    "        self.year=year\n",
    "        self.id=id\n",
    "        \n",
    "    def details(self):\n",
    "        super().details()\n",
    "        print('name: ',self.name)\n",
    "        print('Age: ',self.age)\n",
    "        print('year: ',self.year)\n",
    "        print('id: ',self.id)\n",
    "#now we will use reference variable\n",
    "\n",
    "s1 = Trainee('Abi',22)\n",
    "s1.details()"
   ]
  },
  {
   "cell_type": "code",
   "execution_count": 16,
   "id": "12fe8443",
   "metadata": {},
   "outputs": [
    {
     "name": "stdout",
     "output_type": "stream",
     "text": [
      "two arg method\n"
     ]
    }
   ],
   "source": [
    "class Test:\n",
    "    def __init__(self):\n",
    "        print('no arg')\n",
    "        \n",
    "    def __init__(self,a):\n",
    "        print('One arg concept')\n",
    "        \n",
    "    def __init__(self,a,b):\n",
    "        print('two arg method')\n",
    "#t2=Test(10)\n",
    "t3=Test(10,20)\n",
    "#t4=Test(10,20,30)"
   ]
  },
  {
   "cell_type": "code",
   "execution_count": 17,
   "id": "f43b942d",
   "metadata": {},
   "outputs": [
    {
     "name": "stdout",
     "output_type": "stream",
     "text": [
      "Employee name:  Abi\n",
      "Employee age:  30\n",
      "Employee number:  1008\n",
      "Employee salary:  50000\n"
     ]
    }
   ],
   "source": [
    "class Person:\n",
    "    def __init__(self,name,age):\n",
    "        self.name=name\n",
    "        self.age=age\n",
    "        \n",
    "class Employee(Person):\n",
    "    def __init__(self,name, age,eno,esal):   #over loading here\n",
    "        super().__init__(name,age)\n",
    "        self.eno=eno\n",
    "        self.esal=esal\n",
    "        \n",
    "    def display(self):\n",
    "        print('Employee name: ',self.name)\n",
    "        print('Employee age: ',self.age)\n",
    "        print('Employee number: ',self.eno)\n",
    "        print('Employee salary: ',self.esal)\n",
    "        \n",
    "#create an object:\n",
    "\n",
    "e1=Employee('Abi',30,1008,50000)\n",
    "e1.display()"
   ]
  },
  {
   "cell_type": "code",
   "execution_count": null,
   "id": "c04cae5a",
   "metadata": {},
   "outputs": [],
   "source": []
  },
  {
   "cell_type": "code",
   "execution_count": null,
   "id": "4a3c6939",
   "metadata": {},
   "outputs": [],
   "source": []
  }
 ],
 "metadata": {
  "kernelspec": {
   "display_name": "Python 3",
   "language": "python",
   "name": "python3"
  },
  "language_info": {
   "codemirror_mode": {
    "name": "ipython",
    "version": 3
   },
   "file_extension": ".py",
   "mimetype": "text/x-python",
   "name": "python",
   "nbconvert_exporter": "python",
   "pygments_lexer": "ipython3",
   "version": "3.8.12"
  }
 },
 "nbformat": 4,
 "nbformat_minor": 5
}
