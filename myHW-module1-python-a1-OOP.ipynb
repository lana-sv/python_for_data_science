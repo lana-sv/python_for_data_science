{
 "cells": [
  {
   "cell_type": "markdown",
   "id": "43087019",
   "metadata": {},
   "source": [
    "# myHW-module1-python-a1-OOP-bc-2213031903"
   ]
  },
  {
   "cell_type": "code",
   "execution_count": 4,
   "id": "16be828d",
   "metadata": {},
   "outputs": [
    {
     "data": {
      "text/plain": [
       "'this is an Employee with Name :Abi and Salary :10000'"
      ]
     },
     "execution_count": 4,
     "metadata": {},
     "output_type": "execute_result"
    }
   ],
   "source": [
    "#myHW-module1-python-a1-OOP-bc-2213031903\n",
    "\n",
    "#case study problem 1:\n",
    "\n",
    "class Employee:\n",
    "    def __init__(self,employee_name,employee_salary):\n",
    "        self.employee_name=employee_name\n",
    "        self.employee_salary=employee_salary\n",
    "        \n",
    "    def __str__(self):\n",
    "        return 'this is an Employee with Name :{} and Salary :{}'.format(self.employee_name,self.employee_salary)\n",
    "\n",
    "s1 = Employee('Abi', 10000)\n",
    "#print(s1)\n",
    "s1.__str__()"
   ]
  },
  {
   "cell_type": "code",
   "execution_count": 7,
   "id": "772834f5",
   "metadata": {},
   "outputs": [
    {
     "name": "stdout",
     "output_type": "stream",
     "text": [
      "Please select operation -\n",
      "1. Add\n",
      "2. Subtract\n",
      "3. Multiply\n",
      "4. Divide\n",
      "\n",
      "Select operations form 1, 2, 3, 4 :1\n",
      "Enter first number: 2\n",
      "Enter second number: 8\n",
      "2 + 8 = 10\n"
     ]
    }
   ],
   "source": [
    "# Python program for simple calculator\n",
    "  \n",
    "# Function to add two numbers \n",
    "def add(num1, num2):\n",
    "    return num1 + num2\n",
    "  \n",
    "# Function to subtract two numbers \n",
    "def subtract(num1, num2):\n",
    "    return num1 - num2\n",
    "  \n",
    "# Function to multiply two numbers\n",
    "def multiply(num1, num2):\n",
    "    return num1 * num2\n",
    "  \n",
    "# Function to divide two numbers\n",
    "def divide(num1, num2):\n",
    "    return num1 / num2\n",
    "  \n",
    "print(\"Please select operation -\\n\" \\\n",
    "        \"1. Add\\n\" \\\n",
    "        \"2. Subtract\\n\" \\\n",
    "        \"3. Multiply\\n\" \\\n",
    "        \"4. Divide\\n\")\n",
    "  \n",
    "select = int(input(\"Select operations form 1, 2, 3, 4 :\"))\n",
    "  \n",
    "number_1 = int(input(\"Enter first number: \"))\n",
    "number_2 = int(input(\"Enter second number: \"))\n",
    "  \n",
    "if select == 1:\n",
    "    print(number_1, \"+\", number_2, \"=\",\n",
    "                    add(number_1, number_2))\n",
    "elif select == 2:\n",
    "    print(number_1, \"-\", number_2, \"=\",\n",
    "                    subtract(number_1, number_2))\n",
    "elif select == 3:\n",
    "    print(number_1, \"*\", number_2, \"=\",\n",
    "                    multiply(number_1, number_2))\n",
    "elif select == 4:\n",
    "    print(number_1, \"/\", number_2, \"=\",\n",
    "                    divide(number_1, number_2))\n",
    "else:\n",
    "    print(\"Invalid input\")"
   ]
  },
  {
   "cell_type": "code",
   "execution_count": null,
   "id": "19d317e1",
   "metadata": {},
   "outputs": [],
   "source": []
  }
 ],
 "metadata": {
  "kernelspec": {
   "display_name": "Python 3",
   "language": "python",
   "name": "python3"
  },
  "language_info": {
   "codemirror_mode": {
    "name": "ipython",
    "version": 3
   },
   "file_extension": ".py",
   "mimetype": "text/x-python",
   "name": "python",
   "nbconvert_exporter": "python",
   "pygments_lexer": "ipython3",
   "version": "3.8.12"
  }
 },
 "nbformat": 4,
 "nbformat_minor": 5
}
