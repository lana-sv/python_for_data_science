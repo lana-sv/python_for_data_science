{
 "cells": [
  {
   "cell_type": "code",
   "execution_count": 7,
   "id": "b9ef0a1c",
   "metadata": {},
   "outputs": [
    {
     "data": {
      "text/plain": [
       "[10, 20, 30, 'apple', True, 8.1]"
      ]
     },
     "execution_count": 7,
     "metadata": {},
     "output_type": "execute_result"
    }
   ],
   "source": [
    "#module 4 - data structure assignment:\n",
    "\n",
    "#task1:\n",
    "#create myList with 10,20,30,'apple,'true,8.10\n",
    "#then append values wit 30, 40\n",
    "#then reverse list and store in reversedList\n",
    "\n",
    "import numpy as np\n",
    "\n",
    "myList = [10,20,30,'apple',True,8.10]\n",
    "myList"
   ]
  },
  {
   "cell_type": "code",
   "execution_count": 8,
   "id": "69ab83e9",
   "metadata": {},
   "outputs": [
    {
     "data": {
      "text/plain": [
       "[10, 20, 30, 'apple', True, 8.1, 30]"
      ]
     },
     "execution_count": 8,
     "metadata": {},
     "output_type": "execute_result"
    }
   ],
   "source": [
    "myList.append(30)\n",
    "myList"
   ]
  },
  {
   "cell_type": "code",
   "execution_count": 9,
   "id": "95643e44",
   "metadata": {},
   "outputs": [
    {
     "data": {
      "text/plain": [
       "[10, 20, 30, 'apple', True, 8.1, 30, 40]"
      ]
     },
     "execution_count": 9,
     "metadata": {},
     "output_type": "execute_result"
    }
   ],
   "source": [
    "myList.append(40)\n",
    "myList"
   ]
  },
  {
   "cell_type": "code",
   "execution_count": 25,
   "id": "7b4ec1a2",
   "metadata": {},
   "outputs": [
    {
     "data": {
      "text/plain": [
       "{1: 'data', 2: 'information', 3: 'text'}"
      ]
     },
     "execution_count": 25,
     "metadata": {},
     "output_type": "execute_result"
    }
   ],
   "source": [
    "#task2:\n",
    "#create dict with keys 1,2,3 and vals 'data','information', 'text'\n",
    "\n",
    "dict01={1:'data',2:'information',3:'text'}\n",
    "dict01"
   ]
  },
  {
   "cell_type": "code",
   "execution_count": 26,
   "id": "7d3a984d",
   "metadata": {},
   "outputs": [
    {
     "data": {
      "text/plain": [
       "dict_values(['data', 'information', 'text'])"
      ]
     },
     "execution_count": 26,
     "metadata": {},
     "output_type": "execute_result"
    }
   ],
   "source": [
    "dict01.values()"
   ]
  },
  {
   "cell_type": "code",
   "execution_count": 27,
   "id": "8b23c43d",
   "metadata": {},
   "outputs": [
    {
     "data": {
      "text/plain": [
       "{1: 'data', 2: 'information', 3: 'text', 4: 'features'}"
      ]
     },
     "execution_count": 27,
     "metadata": {},
     "output_type": "execute_result"
    }
   ],
   "source": [
    "dict01[4] = 'features'\n",
    "dict01"
   ]
  },
  {
   "cell_type": "code",
   "execution_count": null,
   "id": "76e047ac",
   "metadata": {},
   "outputs": [],
   "source": [
    "d = {'key': 'value'}\n",
    "print(d)  # {'key': 'value'}\n",
    "\n",
    "d['mynewkey'] = 'mynewvalue'\n",
    "\n",
    "print(d)  # {'key': 'value', 'mynewkey': 'mynewvalue'}"
   ]
  },
  {
   "cell_type": "code",
   "execution_count": 28,
   "id": "c95ba7d4",
   "metadata": {},
   "outputs": [
    {
     "data": {
      "text/plain": [
       "{1: 'data', 2: 'information', 4: 'features'}"
      ]
     },
     "execution_count": 28,
     "metadata": {},
     "output_type": "execute_result"
    }
   ],
   "source": [
    "del dict01[3]  # This will remove the element with your key.\n",
    "dict01"
   ]
  },
  {
   "cell_type": "code",
   "execution_count": 34,
   "id": "3928de6a",
   "metadata": {},
   "outputs": [
    {
     "name": "stdout",
     "output_type": "stream",
     "text": [
      "dict_keys([1, 2, 4])\n"
     ]
    }
   ],
   "source": [
    "print(dict01.keys())"
   ]
  },
  {
   "cell_type": "code",
   "execution_count": 35,
   "id": "2f885afa",
   "metadata": {},
   "outputs": [
    {
     "name": "stdout",
     "output_type": "stream",
     "text": [
      "dict_values(['data', 'information', 'features'])\n"
     ]
    }
   ],
   "source": [
    "print(dict01.values())"
   ]
  },
  {
   "cell_type": "code",
   "execution_count": 40,
   "id": "c31e7f7c",
   "metadata": {},
   "outputs": [
    {
     "data": {
      "text/plain": [
       "(1, 2, 3, 'apple', 'mango')"
      ]
     },
     "execution_count": 40,
     "metadata": {},
     "output_type": "execute_result"
    }
   ],
   "source": [
    "#task3:\n",
    "#create my_tuple and add 1,2,3,apple, mango\n",
    "\n",
    "my_tuple = (1,2,3,'apple', 'mango')\n",
    "\n",
    "my_tuple "
   ]
  },
  {
   "cell_type": "code",
   "execution_count": null,
   "id": "40188d3f",
   "metadata": {},
   "outputs": [],
   "source": [
    "#task4:\n",
    "#create numeric_tuple with 10,20,30,40,50\n",
    "#find min\n",
    "#concat my_tuple and numeric_tuple and store result as r1\n",
    "\n",
    "#duplicate my_tuple 2 tiimes and store in newdupli"
   ]
  },
  {
   "cell_type": "code",
   "execution_count": 41,
   "id": "fc2c9c59",
   "metadata": {},
   "outputs": [
    {
     "data": {
      "text/plain": [
       "(10, 20, 30, 40, 50)"
      ]
     },
     "execution_count": 41,
     "metadata": {},
     "output_type": "execute_result"
    }
   ],
   "source": [
    "numeric_tuple = (10,20,30,40,50)\n",
    "\n",
    "numeric_tuple"
   ]
  },
  {
   "cell_type": "code",
   "execution_count": 45,
   "id": "4f58d73c",
   "metadata": {},
   "outputs": [
    {
     "data": {
      "text/plain": [
       "(1, 2, 3, 'apple', 'mango', 10, 20, 30, 40, 50)"
      ]
     },
     "execution_count": 45,
     "metadata": {},
     "output_type": "execute_result"
    }
   ],
   "source": [
    "r1 = my_tuple + numeric_tuple\n",
    "r1"
   ]
  },
  {
   "cell_type": "code",
   "execution_count": 50,
   "id": "f805a784",
   "metadata": {},
   "outputs": [
    {
     "name": "stdout",
     "output_type": "stream",
     "text": [
      "The original tuple : (1, 2, 3, 'apple', 'mango')\n",
      "The duplicated tuple elements are : ((1, 2, 3, 'apple', 'mango'), (1, 2, 3, 'apple', 'mango'))\n"
     ]
    }
   ],
   "source": [
    "# initialize tuple \n",
    "my_tuple = (1,2,3,'apple', 'mango')\n",
    "  \n",
    "# printing original tuple \n",
    "print(\"The original tuple : \" + str(my_tuple))\n",
    "  \n",
    "# initialize N \n",
    "N = 2\n",
    "  \n",
    "# Repeating tuples N times\n",
    "# using * operator\n",
    "newdupli = ((my_tuple, ) * N)\n",
    "  \n",
    "# printing result\n",
    "print(\"The duplicated tuple elements are : \" + str(newdupli))"
   ]
  },
  {
   "cell_type": "code",
   "execution_count": null,
   "id": "b20d56ca",
   "metadata": {},
   "outputs": [],
   "source": [
    "#task5:\n",
    "#create 2 sets set1 nd set2\n",
    "#set1={1,2,3,4,5}\n",
    "#set2={2,3,7,6,1}\n",
    "#set1 union set2\n",
    "#set1 intersection set2\n",
    "#set1 difference set2"
   ]
  },
  {
   "cell_type": "code",
   "execution_count": 52,
   "id": "edad306a",
   "metadata": {},
   "outputs": [
    {
     "name": "stdout",
     "output_type": "stream",
     "text": [
      "{1, 2, 3, 4, 5}\n"
     ]
    }
   ],
   "source": [
    "# Different types of sets in Python\n",
    "# set of integers\n",
    "set1 = {1,2,3,4,5}\n",
    "print(set1)"
   ]
  },
  {
   "cell_type": "code",
   "execution_count": 53,
   "id": "f7411a43",
   "metadata": {},
   "outputs": [
    {
     "name": "stdout",
     "output_type": "stream",
     "text": [
      "{1, 2, 3, 6, 7}\n"
     ]
    }
   ],
   "source": [
    "set2= {2,3,7,6,1}\n",
    "print(set2)"
   ]
  },
  {
   "cell_type": "code",
   "execution_count": null,
   "id": "d33a4eb1",
   "metadata": {},
   "outputs": [],
   "source": [
    "# Set union method\n",
    "# initialize A and B\n",
    "A = {1, 2, 3, 4, 5}\n",
    "B = {4, 5, 6, 7, 8}\n",
    "\n",
    "# use | operator\n",
    "# Output: {1, 2, 3, 4, 5, 6, 7, 8}\n",
    "print(A | B)"
   ]
  },
  {
   "cell_type": "code",
   "execution_count": 54,
   "id": "67470464",
   "metadata": {},
   "outputs": [
    {
     "name": "stdout",
     "output_type": "stream",
     "text": [
      "{1, 2, 3, 4, 5, 6, 7}\n"
     ]
    }
   ],
   "source": [
    "print(set1 | set2)"
   ]
  },
  {
   "cell_type": "code",
   "execution_count": null,
   "id": "9a08c50d",
   "metadata": {},
   "outputs": [],
   "source": [
    "# Intersection of sets\n",
    "# initialize A and B\n",
    "A = {1, 2, 3, 4, 5}\n",
    "B = {4, 5, 6, 7, 8}\n",
    "\n",
    "# use & operator\n",
    "# Output: {4, 5}\n",
    "print(A & B)"
   ]
  },
  {
   "cell_type": "code",
   "execution_count": 55,
   "id": "7560f384",
   "metadata": {},
   "outputs": [
    {
     "name": "stdout",
     "output_type": "stream",
     "text": [
      "{1, 2, 3}\n"
     ]
    }
   ],
   "source": [
    "print(set1 & set2)"
   ]
  },
  {
   "cell_type": "code",
   "execution_count": null,
   "id": "ba8498d6",
   "metadata": {},
   "outputs": [],
   "source": [
    "# Difference of two sets\n",
    "# initialize A and B\n",
    "A = {1, 2, 3, 4, 5}\n",
    "B = {4, 5, 6, 7, 8}\n",
    "\n",
    "# use - operator on A\n",
    "# Output: {1, 2, 3}\n",
    "print(A - B)"
   ]
  },
  {
   "cell_type": "code",
   "execution_count": 56,
   "id": "08cdb868",
   "metadata": {},
   "outputs": [
    {
     "name": "stdout",
     "output_type": "stream",
     "text": [
      "{4, 5}\n"
     ]
    }
   ],
   "source": [
    "print(set1 - set2)"
   ]
  },
  {
   "cell_type": "code",
   "execution_count": 57,
   "id": "31b2cb48",
   "metadata": {},
   "outputs": [
    {
     "name": "stdout",
     "output_type": "stream",
     "text": [
      "{6, 7}\n"
     ]
    }
   ],
   "source": [
    "print(set2 - set1)"
   ]
  },
  {
   "cell_type": "code",
   "execution_count": null,
   "id": "7c424335",
   "metadata": {},
   "outputs": [],
   "source": []
  }
 ],
 "metadata": {
  "kernelspec": {
   "display_name": "Python 3",
   "language": "python",
   "name": "python3"
  },
  "language_info": {
   "codemirror_mode": {
    "name": "ipython",
    "version": 3
   },
   "file_extension": ".py",
   "mimetype": "text/x-python",
   "name": "python",
   "nbconvert_exporter": "python",
   "pygments_lexer": "ipython3",
   "version": "3.8.12"
  }
 },
 "nbformat": 4,
 "nbformat_minor": 5
}
