{
 "cells": [
  {
   "cell_type": "code",
   "execution_count": null,
   "id": "bba70f47-2fb4-4757-baac-7ca6b765e9d2",
   "metadata": {},
   "outputs": [],
   "source": [
    "# my HomeWork-module2-python-a4-bc-2213031903:"
   ]
  },
  {
   "cell_type": "code",
   "execution_count": null,
   "id": "db222d1f-d574-4ca2-8b52-805fd26a0a7f",
   "metadata": {},
   "outputs": [],
   "source": [
    "# module 2, assignment 4 - import:"
   ]
  },
  {
   "cell_type": "code",
   "execution_count": null,
   "id": "da0b592d",
   "metadata": {},
   "outputs": [],
   "source": [
    "# module 2, assignment 4 - import:\n",
    "\n",
    "#create python file named Module\n",
    "#inside the file define 4 methods names addition subtraction multiplication division\n",
    "\n",
    "#save the module in py format"
   ]
  },
  {
   "cell_type": "code",
   "execution_count": 1,
   "id": "793c9fe4",
   "metadata": {},
   "outputs": [],
   "source": [
    "# Python Module example\n",
    "# creating file 'example.py' with the content:\n",
    "\n",
    "def addition(a, b):\n",
    "    result = a + b\n",
    "    return result\n",
    "\n",
    "def subtraction(a, b):\n",
    "    result = a - b\n",
    "    return result\n",
    "\n",
    "def multiplication (a, b):\n",
    "    result = a * b\n",
    "    return result\n",
    "\n",
    "def division(a, b):\n",
    "    result = a/b\n",
    "    return result"
   ]
  },
  {
   "cell_type": "code",
   "execution_count": 4,
   "id": "5334217f",
   "metadata": {},
   "outputs": [
    {
     "data": {
      "text/plain": [
       "9"
      ]
     },
     "execution_count": 4,
     "metadata": {},
     "output_type": "execute_result"
    }
   ],
   "source": [
    "#task 2:\n",
    "\n",
    "import example\n",
    "example.addition(9,5)\n",
    "example.subtraction(9,5)\n",
    "example.multiplication(9,5)\n",
    "example.division(9,5)\n",
    "#addition(4,5)"
   ]
  },
  {
   "cell_type": "code",
   "execution_count": null,
   "id": "44941ab4",
   "metadata": {},
   "outputs": [],
   "source": [
    "#task 3:\n",
    "\n",
    "import example\n",
    "example.addition(9,5)"
   ]
  },
  {
   "cell_type": "code",
   "execution_count": null,
   "id": "f5827b03",
   "metadata": {},
   "outputs": [],
   "source": [
    "#task 4:\n",
    "\n",
    "import example\n",
    "\n",
    "example.subtraction(9,5)\n"
   ]
  },
  {
   "cell_type": "code",
   "execution_count": null,
   "id": "ddfbd000",
   "metadata": {},
   "outputs": [],
   "source": [
    "#task 5:\n",
    "\n",
    "import example\n",
    "\n",
    "example.multiplication(9,5)\n",
    "example.division(9,5)\n",
    "#addition(4,5)"
   ]
  },
  {
   "cell_type": "code",
   "execution_count": null,
   "id": "ffe0babe",
   "metadata": {},
   "outputs": [],
   "source": []
  }
 ],
 "metadata": {
  "kernelspec": {
   "display_name": "Python 3",
   "language": "python",
   "name": "python3"
  },
  "language_info": {
   "codemirror_mode": {
    "name": "ipython",
    "version": 3
   },
   "file_extension": ".py",
   "mimetype": "text/x-python",
   "name": "python",
   "nbconvert_exporter": "python",
   "pygments_lexer": "ipython3",
   "version": "3.8.12"
  }
 },
 "nbformat": 4,
 "nbformat_minor": 5
}
