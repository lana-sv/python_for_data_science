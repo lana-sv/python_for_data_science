{
 "cells": [
  {
   "cell_type": "code",
   "execution_count": 2,
   "id": "0f1697b1",
   "metadata": {},
   "outputs": [],
   "source": [
    "import numpy as np\n",
    "import pandas as pd\n",
    "import matplotlib.pyplot as plt\n"
   ]
  },
  {
   "cell_type": "code",
   "execution_count": null,
   "id": "7ac861ab",
   "metadata": {},
   "outputs": [],
   "source": [
    "#homework - python - module 9, case study 1: \n",
    "#Movie Recommender System with SVD algorithm (singular value decomposition):\n",
    "\n",
    "#1.a. load moves and ratings datasets\n",
    "#1.b.find unique number of users and movies in ratings dataset\n",
    "#1.c. create a rating matrix in rating dataset and store it in Ratings.\n",
    "#1.d. load ratings dataset as SVD dataset object and compute 3D-fold-cross-validation using the SVD object.\n",
    "#1.e. find all the movies rated as 5 stars by user id 5 and store it in ratings_1 dataframe\n",
    "#1.f. create shallow copy of movies dataset and store the result in user_5\n",
    "#1.g. train recommender system using SVD object and predict the ratings for user id 5\n",
    "#1.h.print the top 10 movie recommendations for the user id 5\n"
   ]
  },
  {
   "cell_type": "code",
   "execution_count": 3,
   "id": "18402dc2",
   "metadata": {},
   "outputs": [
    {
     "data": {
      "text/html": [
       "<div>\n",
       "<style scoped>\n",
       "    .dataframe tbody tr th:only-of-type {\n",
       "        vertical-align: middle;\n",
       "    }\n",
       "\n",
       "    .dataframe tbody tr th {\n",
       "        vertical-align: top;\n",
       "    }\n",
       "\n",
       "    .dataframe thead th {\n",
       "        text-align: right;\n",
       "    }\n",
       "</style>\n",
       "<table border=\"1\" class=\"dataframe\">\n",
       "  <thead>\n",
       "    <tr style=\"text-align: right;\">\n",
       "      <th></th>\n",
       "      <th>movieId</th>\n",
       "      <th>title</th>\n",
       "      <th>genres</th>\n",
       "    </tr>\n",
       "  </thead>\n",
       "  <tbody>\n",
       "    <tr>\n",
       "      <th>0</th>\n",
       "      <td>1</td>\n",
       "      <td>Toy Story (1995)</td>\n",
       "      <td>Adventure|Animation|Children|Comedy|Fantasy</td>\n",
       "    </tr>\n",
       "    <tr>\n",
       "      <th>1</th>\n",
       "      <td>2</td>\n",
       "      <td>Jumanji (1995)</td>\n",
       "      <td>Adventure|Children|Fantasy</td>\n",
       "    </tr>\n",
       "    <tr>\n",
       "      <th>2</th>\n",
       "      <td>3</td>\n",
       "      <td>Grumpier Old Men (1995)</td>\n",
       "      <td>Comedy|Romance</td>\n",
       "    </tr>\n",
       "    <tr>\n",
       "      <th>3</th>\n",
       "      <td>4</td>\n",
       "      <td>Waiting to Exhale (1995)</td>\n",
       "      <td>Comedy|Drama|Romance</td>\n",
       "    </tr>\n",
       "    <tr>\n",
       "      <th>4</th>\n",
       "      <td>5</td>\n",
       "      <td>Father of the Bride Part II (1995)</td>\n",
       "      <td>Comedy</td>\n",
       "    </tr>\n",
       "  </tbody>\n",
       "</table>\n",
       "</div>"
      ],
      "text/plain": [
       "   movieId                               title  \\\n",
       "0        1                    Toy Story (1995)   \n",
       "1        2                      Jumanji (1995)   \n",
       "2        3             Grumpier Old Men (1995)   \n",
       "3        4            Waiting to Exhale (1995)   \n",
       "4        5  Father of the Bride Part II (1995)   \n",
       "\n",
       "                                        genres  \n",
       "0  Adventure|Animation|Children|Comedy|Fantasy  \n",
       "1                   Adventure|Children|Fantasy  \n",
       "2                               Comedy|Romance  \n",
       "3                         Comedy|Drama|Romance  \n",
       "4                                       Comedy  "
      ]
     },
     "execution_count": 3,
     "metadata": {},
     "output_type": "execute_result"
    }
   ],
   "source": [
    "movie = pd.read_csv('movies.csv')\n",
    "movie.head()"
   ]
  },
  {
   "cell_type": "code",
   "execution_count": 49,
   "id": "6689524e",
   "metadata": {},
   "outputs": [
    {
     "data": {
      "text/plain": [
       "(27278, 3)"
      ]
     },
     "execution_count": 49,
     "metadata": {},
     "output_type": "execute_result"
    }
   ],
   "source": [
    "movie.shape"
   ]
  },
  {
   "cell_type": "code",
   "execution_count": 50,
   "id": "5152af78",
   "metadata": {},
   "outputs": [
    {
     "data": {
      "text/html": [
       "<div>\n",
       "<style scoped>\n",
       "    .dataframe tbody tr th:only-of-type {\n",
       "        vertical-align: middle;\n",
       "    }\n",
       "\n",
       "    .dataframe tbody tr th {\n",
       "        vertical-align: top;\n",
       "    }\n",
       "\n",
       "    .dataframe thead th {\n",
       "        text-align: right;\n",
       "    }\n",
       "</style>\n",
       "<table border=\"1\" class=\"dataframe\">\n",
       "  <thead>\n",
       "    <tr style=\"text-align: right;\">\n",
       "      <th></th>\n",
       "      <th>movieId</th>\n",
       "    </tr>\n",
       "  </thead>\n",
       "  <tbody>\n",
       "    <tr>\n",
       "      <th>count</th>\n",
       "      <td>27278.000000</td>\n",
       "    </tr>\n",
       "    <tr>\n",
       "      <th>mean</th>\n",
       "      <td>59855.480570</td>\n",
       "    </tr>\n",
       "    <tr>\n",
       "      <th>std</th>\n",
       "      <td>44429.314697</td>\n",
       "    </tr>\n",
       "    <tr>\n",
       "      <th>min</th>\n",
       "      <td>1.000000</td>\n",
       "    </tr>\n",
       "    <tr>\n",
       "      <th>25%</th>\n",
       "      <td>6931.250000</td>\n",
       "    </tr>\n",
       "    <tr>\n",
       "      <th>50%</th>\n",
       "      <td>68068.000000</td>\n",
       "    </tr>\n",
       "    <tr>\n",
       "      <th>75%</th>\n",
       "      <td>100293.250000</td>\n",
       "    </tr>\n",
       "    <tr>\n",
       "      <th>max</th>\n",
       "      <td>131262.000000</td>\n",
       "    </tr>\n",
       "  </tbody>\n",
       "</table>\n",
       "</div>"
      ],
      "text/plain": [
       "             movieId\n",
       "count   27278.000000\n",
       "mean    59855.480570\n",
       "std     44429.314697\n",
       "min         1.000000\n",
       "25%      6931.250000\n",
       "50%     68068.000000\n",
       "75%    100293.250000\n",
       "max    131262.000000"
      ]
     },
     "execution_count": 50,
     "metadata": {},
     "output_type": "execute_result"
    }
   ],
   "source": [
    "movie.describe()"
   ]
  },
  {
   "cell_type": "code",
   "execution_count": 51,
   "id": "26a29763",
   "metadata": {},
   "outputs": [
    {
     "name": "stdout",
     "output_type": "stream",
     "text": [
      "<class 'pandas.core.frame.DataFrame'>\n",
      "RangeIndex: 27278 entries, 0 to 27277\n",
      "Data columns (total 3 columns):\n",
      " #   Column   Non-Null Count  Dtype \n",
      "---  ------   --------------  ----- \n",
      " 0   movieId  27278 non-null  int64 \n",
      " 1   title    27278 non-null  object\n",
      " 2   genres   27278 non-null  object\n",
      "dtypes: int64(1), object(2)\n",
      "memory usage: 639.5+ KB\n"
     ]
    }
   ],
   "source": [
    "movie.info()"
   ]
  },
  {
   "cell_type": "code",
   "execution_count": 4,
   "id": "18c657f0",
   "metadata": {},
   "outputs": [
    {
     "data": {
      "text/html": [
       "<div>\n",
       "<style scoped>\n",
       "    .dataframe tbody tr th:only-of-type {\n",
       "        vertical-align: middle;\n",
       "    }\n",
       "\n",
       "    .dataframe tbody tr th {\n",
       "        vertical-align: top;\n",
       "    }\n",
       "\n",
       "    .dataframe thead th {\n",
       "        text-align: right;\n",
       "    }\n",
       "</style>\n",
       "<table border=\"1\" class=\"dataframe\">\n",
       "  <thead>\n",
       "    <tr style=\"text-align: right;\">\n",
       "      <th></th>\n",
       "      <th>userId</th>\n",
       "      <th>movieId</th>\n",
       "      <th>rating</th>\n",
       "      <th>timestamp</th>\n",
       "    </tr>\n",
       "  </thead>\n",
       "  <tbody>\n",
       "    <tr>\n",
       "      <th>0</th>\n",
       "      <td>1</td>\n",
       "      <td>2</td>\n",
       "      <td>3.5</td>\n",
       "      <td>1112486027</td>\n",
       "    </tr>\n",
       "    <tr>\n",
       "      <th>1</th>\n",
       "      <td>1</td>\n",
       "      <td>29</td>\n",
       "      <td>3.5</td>\n",
       "      <td>1112484676</td>\n",
       "    </tr>\n",
       "    <tr>\n",
       "      <th>2</th>\n",
       "      <td>1</td>\n",
       "      <td>32</td>\n",
       "      <td>3.5</td>\n",
       "      <td>1112484819</td>\n",
       "    </tr>\n",
       "    <tr>\n",
       "      <th>3</th>\n",
       "      <td>1</td>\n",
       "      <td>47</td>\n",
       "      <td>3.5</td>\n",
       "      <td>1112484727</td>\n",
       "    </tr>\n",
       "    <tr>\n",
       "      <th>4</th>\n",
       "      <td>1</td>\n",
       "      <td>50</td>\n",
       "      <td>3.5</td>\n",
       "      <td>1112484580</td>\n",
       "    </tr>\n",
       "  </tbody>\n",
       "</table>\n",
       "</div>"
      ],
      "text/plain": [
       "   userId  movieId  rating   timestamp\n",
       "0       1        2     3.5  1112486027\n",
       "1       1       29     3.5  1112484676\n",
       "2       1       32     3.5  1112484819\n",
       "3       1       47     3.5  1112484727\n",
       "4       1       50     3.5  1112484580"
      ]
     },
     "execution_count": 4,
     "metadata": {},
     "output_type": "execute_result"
    }
   ],
   "source": [
    "rating = pd.read_csv('ratings.csv')\n",
    "rating.head()"
   ]
  },
  {
   "cell_type": "code",
   "execution_count": 53,
   "id": "7461315b",
   "metadata": {},
   "outputs": [
    {
     "data": {
      "text/plain": [
       "(1048575, 4)"
      ]
     },
     "execution_count": 53,
     "metadata": {},
     "output_type": "execute_result"
    }
   ],
   "source": [
    "rating.shape"
   ]
  },
  {
   "cell_type": "code",
   "execution_count": 54,
   "id": "541da527",
   "metadata": {},
   "outputs": [
    {
     "name": "stdout",
     "output_type": "stream",
     "text": [
      "<class 'pandas.core.frame.DataFrame'>\n",
      "RangeIndex: 1048575 entries, 0 to 1048574\n",
      "Data columns (total 4 columns):\n",
      " #   Column     Non-Null Count    Dtype  \n",
      "---  ------     --------------    -----  \n",
      " 0   userId     1048575 non-null  int64  \n",
      " 1   movieId    1048575 non-null  int64  \n",
      " 2   rating     1048575 non-null  float64\n",
      " 3   timestamp  1048575 non-null  int64  \n",
      "dtypes: float64(1), int64(3)\n",
      "memory usage: 32.0 MB\n"
     ]
    }
   ],
   "source": [
    "rating.info()"
   ]
  },
  {
   "cell_type": "code",
   "execution_count": 4,
   "id": "f6616cd8",
   "metadata": {},
   "outputs": [
    {
     "data": {
      "text/plain": [
       "array([   1,    2,    3, ..., 7118, 7119, 7120])"
      ]
     },
     "execution_count": 4,
     "metadata": {},
     "output_type": "execute_result"
    }
   ],
   "source": [
    "#1.b.find unique number of users and movies in ratings dataset\n",
    "\n",
    "rating.userId.unique()"
   ]
  },
  {
   "cell_type": "code",
   "execution_count": 56,
   "id": "e242049d",
   "metadata": {},
   "outputs": [
    {
     "data": {
      "text/plain": [
       "7120"
      ]
     },
     "execution_count": 56,
     "metadata": {},
     "output_type": "execute_result"
    }
   ],
   "source": [
    "len(rating.userId.unique())\n",
    "\n",
    "#so we see 7120 unique users"
   ]
  },
  {
   "cell_type": "code",
   "execution_count": 57,
   "id": "6be9c3ae",
   "metadata": {},
   "outputs": [
    {
     "data": {
      "text/plain": [
       "14026"
      ]
     },
     "execution_count": 57,
     "metadata": {},
     "output_type": "execute_result"
    }
   ],
   "source": [
    "len(rating.movieId.unique())\n",
    "\n",
    "# there are 14026 unique movies"
   ]
  },
  {
   "cell_type": "code",
   "execution_count": 6,
   "id": "562eda91",
   "metadata": {},
   "outputs": [
    {
     "name": "stderr",
     "output_type": "stream",
     "text": [
      "<ipython-input-6-91865a42459a>:4: UserWarning: Boolean Series key will be reindexed to match DataFrame index.\n",
      "  Ratings_df=movie[rating['rating']==5]\n"
     ]
    },
    {
     "data": {
      "text/html": [
       "<div>\n",
       "<style scoped>\n",
       "    .dataframe tbody tr th:only-of-type {\n",
       "        vertical-align: middle;\n",
       "    }\n",
       "\n",
       "    .dataframe tbody tr th {\n",
       "        vertical-align: top;\n",
       "    }\n",
       "\n",
       "    .dataframe thead th {\n",
       "        text-align: right;\n",
       "    }\n",
       "</style>\n",
       "<table border=\"1\" class=\"dataframe\">\n",
       "  <thead>\n",
       "    <tr style=\"text-align: right;\">\n",
       "      <th></th>\n",
       "      <th>movieId</th>\n",
       "      <th>title</th>\n",
       "      <th>genres</th>\n",
       "    </tr>\n",
       "  </thead>\n",
       "  <tbody>\n",
       "    <tr>\n",
       "      <th>131</th>\n",
       "      <td>133</td>\n",
       "      <td>Nueba Yol (1995)</td>\n",
       "      <td>Comedy|Drama</td>\n",
       "    </tr>\n",
       "    <tr>\n",
       "      <th>142</th>\n",
       "      <td>144</td>\n",
       "      <td>Brothers McMullen, The (1995)</td>\n",
       "      <td>Comedy</td>\n",
       "    </tr>\n",
       "    <tr>\n",
       "      <th>158</th>\n",
       "      <td>160</td>\n",
       "      <td>Congo (1995)</td>\n",
       "      <td>Action|Adventure|Mystery|Sci-Fi</td>\n",
       "    </tr>\n",
       "    <tr>\n",
       "      <th>170</th>\n",
       "      <td>172</td>\n",
       "      <td>Johnny Mnemonic (1995)</td>\n",
       "      <td>Action|Sci-Fi|Thriller</td>\n",
       "    </tr>\n",
       "    <tr>\n",
       "      <th>176</th>\n",
       "      <td>178</td>\n",
       "      <td>Love &amp; Human Remains (1993)</td>\n",
       "      <td>Comedy|Drama</td>\n",
       "    </tr>\n",
       "  </tbody>\n",
       "</table>\n",
       "</div>"
      ],
      "text/plain": [
       "     movieId                          title                           genres\n",
       "131      133               Nueba Yol (1995)                     Comedy|Drama\n",
       "142      144  Brothers McMullen, The (1995)                           Comedy\n",
       "158      160                   Congo (1995)  Action|Adventure|Mystery|Sci-Fi\n",
       "170      172         Johnny Mnemonic (1995)           Action|Sci-Fi|Thriller\n",
       "176      178    Love & Human Remains (1993)                     Comedy|Drama"
      ]
     },
     "execution_count": 6,
     "metadata": {},
     "output_type": "execute_result"
    }
   ],
   "source": [
    "#1.c. create a rating matrix in rating dataset and store it in Ratings:\n",
    "#1.c. create a rating matrix in rating dataset and store it in Ratings:\n",
    "\n",
    "Ratings_df=movie[rating['rating']==5]\n",
    "Ratings_df.head()"
   ]
  },
  {
   "cell_type": "code",
   "execution_count": null,
   "id": "c4e72fe8",
   "metadata": {},
   "outputs": [],
   "source": [
    "#1.d. load ratings dataset as SVD dataset object and compute 3D-fold-cross-validation using the SVD object."
   ]
  },
  {
   "cell_type": "code",
   "execution_count": 7,
   "id": "f540a882",
   "metadata": {},
   "outputs": [
    {
     "data": {
      "text/html": [
       "<div>\n",
       "<style scoped>\n",
       "    .dataframe tbody tr th:only-of-type {\n",
       "        vertical-align: middle;\n",
       "    }\n",
       "\n",
       "    .dataframe tbody tr th {\n",
       "        vertical-align: top;\n",
       "    }\n",
       "\n",
       "    .dataframe thead th {\n",
       "        text-align: right;\n",
       "    }\n",
       "</style>\n",
       "<table border=\"1\" class=\"dataframe\">\n",
       "  <thead>\n",
       "    <tr style=\"text-align: right;\">\n",
       "      <th></th>\n",
       "      <th>movieId</th>\n",
       "      <th>title</th>\n",
       "      <th>genres</th>\n",
       "      <th>userId</th>\n",
       "      <th>rating</th>\n",
       "      <th>timestamp</th>\n",
       "    </tr>\n",
       "  </thead>\n",
       "  <tbody>\n",
       "    <tr>\n",
       "      <th>0</th>\n",
       "      <td>1</td>\n",
       "      <td>Toy Story (1995)</td>\n",
       "      <td>Adventure|Animation|Children|Comedy|Fantasy</td>\n",
       "      <td>3.0</td>\n",
       "      <td>4.0</td>\n",
       "      <td>9.449194e+08</td>\n",
       "    </tr>\n",
       "    <tr>\n",
       "      <th>1</th>\n",
       "      <td>1</td>\n",
       "      <td>Toy Story (1995)</td>\n",
       "      <td>Adventure|Animation|Children|Comedy|Fantasy</td>\n",
       "      <td>6.0</td>\n",
       "      <td>5.0</td>\n",
       "      <td>8.582755e+08</td>\n",
       "    </tr>\n",
       "    <tr>\n",
       "      <th>2</th>\n",
       "      <td>1</td>\n",
       "      <td>Toy Story (1995)</td>\n",
       "      <td>Adventure|Animation|Children|Comedy|Fantasy</td>\n",
       "      <td>8.0</td>\n",
       "      <td>4.0</td>\n",
       "      <td>8.339819e+08</td>\n",
       "    </tr>\n",
       "    <tr>\n",
       "      <th>3</th>\n",
       "      <td>1</td>\n",
       "      <td>Toy Story (1995)</td>\n",
       "      <td>Adventure|Animation|Children|Comedy|Fantasy</td>\n",
       "      <td>10.0</td>\n",
       "      <td>4.0</td>\n",
       "      <td>9.434979e+08</td>\n",
       "    </tr>\n",
       "    <tr>\n",
       "      <th>4</th>\n",
       "      <td>1</td>\n",
       "      <td>Toy Story (1995)</td>\n",
       "      <td>Adventure|Animation|Children|Comedy|Fantasy</td>\n",
       "      <td>11.0</td>\n",
       "      <td>4.5</td>\n",
       "      <td>1.230859e+09</td>\n",
       "    </tr>\n",
       "    <tr>\n",
       "      <th>...</th>\n",
       "      <td>...</td>\n",
       "      <td>...</td>\n",
       "      <td>...</td>\n",
       "      <td>...</td>\n",
       "      <td>...</td>\n",
       "      <td>...</td>\n",
       "    </tr>\n",
       "    <tr>\n",
       "      <th>1061822</th>\n",
       "      <td>131254</td>\n",
       "      <td>Kein Bund für's Leben (2007)</td>\n",
       "      <td>Comedy</td>\n",
       "      <td>NaN</td>\n",
       "      <td>NaN</td>\n",
       "      <td>NaN</td>\n",
       "    </tr>\n",
       "    <tr>\n",
       "      <th>1061823</th>\n",
       "      <td>131256</td>\n",
       "      <td>Feuer, Eis &amp; Dosenbier (2002)</td>\n",
       "      <td>Comedy</td>\n",
       "      <td>NaN</td>\n",
       "      <td>NaN</td>\n",
       "      <td>NaN</td>\n",
       "    </tr>\n",
       "    <tr>\n",
       "      <th>1061824</th>\n",
       "      <td>131258</td>\n",
       "      <td>The Pirates (2014)</td>\n",
       "      <td>Adventure</td>\n",
       "      <td>NaN</td>\n",
       "      <td>NaN</td>\n",
       "      <td>NaN</td>\n",
       "    </tr>\n",
       "    <tr>\n",
       "      <th>1061825</th>\n",
       "      <td>131260</td>\n",
       "      <td>Rentun Ruusu (2001)</td>\n",
       "      <td>(no genres listed)</td>\n",
       "      <td>NaN</td>\n",
       "      <td>NaN</td>\n",
       "      <td>NaN</td>\n",
       "    </tr>\n",
       "    <tr>\n",
       "      <th>1061826</th>\n",
       "      <td>131262</td>\n",
       "      <td>Innocence (2014)</td>\n",
       "      <td>Adventure|Fantasy|Horror</td>\n",
       "      <td>NaN</td>\n",
       "      <td>NaN</td>\n",
       "      <td>NaN</td>\n",
       "    </tr>\n",
       "  </tbody>\n",
       "</table>\n",
       "<p>1061827 rows × 6 columns</p>\n",
       "</div>"
      ],
      "text/plain": [
       "         movieId                          title  \\\n",
       "0              1               Toy Story (1995)   \n",
       "1              1               Toy Story (1995)   \n",
       "2              1               Toy Story (1995)   \n",
       "3              1               Toy Story (1995)   \n",
       "4              1               Toy Story (1995)   \n",
       "...          ...                            ...   \n",
       "1061822   131254   Kein Bund für's Leben (2007)   \n",
       "1061823   131256  Feuer, Eis & Dosenbier (2002)   \n",
       "1061824   131258             The Pirates (2014)   \n",
       "1061825   131260            Rentun Ruusu (2001)   \n",
       "1061826   131262               Innocence (2014)   \n",
       "\n",
       "                                              genres  userId  rating  \\\n",
       "0        Adventure|Animation|Children|Comedy|Fantasy     3.0     4.0   \n",
       "1        Adventure|Animation|Children|Comedy|Fantasy     6.0     5.0   \n",
       "2        Adventure|Animation|Children|Comedy|Fantasy     8.0     4.0   \n",
       "3        Adventure|Animation|Children|Comedy|Fantasy    10.0     4.0   \n",
       "4        Adventure|Animation|Children|Comedy|Fantasy    11.0     4.5   \n",
       "...                                              ...     ...     ...   \n",
       "1061822                                       Comedy     NaN     NaN   \n",
       "1061823                                       Comedy     NaN     NaN   \n",
       "1061824                                    Adventure     NaN     NaN   \n",
       "1061825                           (no genres listed)     NaN     NaN   \n",
       "1061826                     Adventure|Fantasy|Horror     NaN     NaN   \n",
       "\n",
       "            timestamp  \n",
       "0        9.449194e+08  \n",
       "1        8.582755e+08  \n",
       "2        8.339819e+08  \n",
       "3        9.434979e+08  \n",
       "4        1.230859e+09  \n",
       "...               ...  \n",
       "1061822           NaN  \n",
       "1061823           NaN  \n",
       "1061824           NaN  \n",
       "1061825           NaN  \n",
       "1061826           NaN  \n",
       "\n",
       "[1061827 rows x 6 columns]"
      ]
     },
     "execution_count": 7,
     "metadata": {},
     "output_type": "execute_result"
    }
   ],
   "source": [
    "dfm = movie.merge(rating, how=\"left\", on=\"movieId\")\n",
    "dfm"
   ]
  },
  {
   "cell_type": "code",
   "execution_count": null,
   "id": "4d6f5d31",
   "metadata": {},
   "outputs": [],
   "source": [
    "#movies = pd.read_table('../../dataset/ml-1m/movies.dat', \n",
    " #                      sep='::', header=None, engine='python', encoding='utf-8').to_numpy()"
   ]
  },
  {
   "cell_type": "code",
   "execution_count": 10,
   "id": "faf9a33c",
   "metadata": {},
   "outputs": [],
   "source": [
    "data = pd.io.parsers.read_csv('ml-1m/ratings.dat', \n",
    "    names=['user_id', 'movie_id', 'rating', 'time'],\n",
    "    engine='python', encoding='ISO-8859-1', delimiter='::')\n",
    "movie_data = pd.io.parsers.read_csv('ml-1m/movies.dat',\n",
    "    names=['movie_id', 'title', 'genre'],\n",
    "    engine='python', encoding='ISO-8859-1', delimiter='::')\n"
   ]
  },
  {
   "cell_type": "code",
   "execution_count": 56,
   "id": "3cb195f9",
   "metadata": {},
   "outputs": [
    {
     "data": {
      "text/html": [
       "<div>\n",
       "<style scoped>\n",
       "    .dataframe tbody tr th:only-of-type {\n",
       "        vertical-align: middle;\n",
       "    }\n",
       "\n",
       "    .dataframe tbody tr th {\n",
       "        vertical-align: top;\n",
       "    }\n",
       "\n",
       "    .dataframe thead th {\n",
       "        text-align: right;\n",
       "    }\n",
       "</style>\n",
       "<table border=\"1\" class=\"dataframe\">\n",
       "  <thead>\n",
       "    <tr style=\"text-align: right;\">\n",
       "      <th></th>\n",
       "      <th>user_id</th>\n",
       "      <th>movie_id</th>\n",
       "      <th>rating</th>\n",
       "      <th>time</th>\n",
       "    </tr>\n",
       "  </thead>\n",
       "  <tbody>\n",
       "    <tr>\n",
       "      <th>0</th>\n",
       "      <td>1</td>\n",
       "      <td>1193</td>\n",
       "      <td>5</td>\n",
       "      <td>978300760</td>\n",
       "    </tr>\n",
       "    <tr>\n",
       "      <th>1</th>\n",
       "      <td>1</td>\n",
       "      <td>661</td>\n",
       "      <td>3</td>\n",
       "      <td>978302109</td>\n",
       "    </tr>\n",
       "    <tr>\n",
       "      <th>2</th>\n",
       "      <td>1</td>\n",
       "      <td>914</td>\n",
       "      <td>3</td>\n",
       "      <td>978301968</td>\n",
       "    </tr>\n",
       "    <tr>\n",
       "      <th>3</th>\n",
       "      <td>1</td>\n",
       "      <td>3408</td>\n",
       "      <td>4</td>\n",
       "      <td>978300275</td>\n",
       "    </tr>\n",
       "    <tr>\n",
       "      <th>4</th>\n",
       "      <td>1</td>\n",
       "      <td>2355</td>\n",
       "      <td>5</td>\n",
       "      <td>978824291</td>\n",
       "    </tr>\n",
       "    <tr>\n",
       "      <th>...</th>\n",
       "      <td>...</td>\n",
       "      <td>...</td>\n",
       "      <td>...</td>\n",
       "      <td>...</td>\n",
       "    </tr>\n",
       "    <tr>\n",
       "      <th>1000204</th>\n",
       "      <td>6040</td>\n",
       "      <td>1091</td>\n",
       "      <td>1</td>\n",
       "      <td>956716541</td>\n",
       "    </tr>\n",
       "    <tr>\n",
       "      <th>1000205</th>\n",
       "      <td>6040</td>\n",
       "      <td>1094</td>\n",
       "      <td>5</td>\n",
       "      <td>956704887</td>\n",
       "    </tr>\n",
       "    <tr>\n",
       "      <th>1000206</th>\n",
       "      <td>6040</td>\n",
       "      <td>562</td>\n",
       "      <td>5</td>\n",
       "      <td>956704746</td>\n",
       "    </tr>\n",
       "    <tr>\n",
       "      <th>1000207</th>\n",
       "      <td>6040</td>\n",
       "      <td>1096</td>\n",
       "      <td>4</td>\n",
       "      <td>956715648</td>\n",
       "    </tr>\n",
       "    <tr>\n",
       "      <th>1000208</th>\n",
       "      <td>6040</td>\n",
       "      <td>1097</td>\n",
       "      <td>4</td>\n",
       "      <td>956715569</td>\n",
       "    </tr>\n",
       "  </tbody>\n",
       "</table>\n",
       "<p>1000209 rows × 4 columns</p>\n",
       "</div>"
      ],
      "text/plain": [
       "         user_id  movie_id  rating       time\n",
       "0              1      1193       5  978300760\n",
       "1              1       661       3  978302109\n",
       "2              1       914       3  978301968\n",
       "3              1      3408       4  978300275\n",
       "4              1      2355       5  978824291\n",
       "...          ...       ...     ...        ...\n",
       "1000204     6040      1091       1  956716541\n",
       "1000205     6040      1094       5  956704887\n",
       "1000206     6040       562       5  956704746\n",
       "1000207     6040      1096       4  956715648\n",
       "1000208     6040      1097       4  956715569\n",
       "\n",
       "[1000209 rows x 4 columns]"
      ]
     },
     "execution_count": 56,
     "metadata": {},
     "output_type": "execute_result"
    }
   ],
   "source": [
    "data"
   ]
  },
  {
   "cell_type": "code",
   "execution_count": 11,
   "id": "328bb6cf",
   "metadata": {},
   "outputs": [],
   "source": [
    "#Creating the ratings matrix of shape (m×u) with rows as movies and columns as users\n",
    "\n",
    "ratings_mat = np.ndarray(\n",
    "    shape=(np.max(data.movie_id.values), np.max(data.user_id.values)),\n",
    "    dtype=np.uint8)\n",
    "ratings_mat[data.movie_id.values-1, data.user_id.values-1] = data.rating.values"
   ]
  },
  {
   "cell_type": "code",
   "execution_count": 13,
   "id": "5dba9b3a",
   "metadata": {},
   "outputs": [],
   "source": [
    "#ratings_mat"
   ]
  },
  {
   "cell_type": "code",
   "execution_count": 14,
   "id": "955e76ad",
   "metadata": {},
   "outputs": [],
   "source": [
    "#Normalising ratings_matrix:\n",
    "\n",
    "normalised_mat = ratings_mat - np.asarray([(np.mean(ratings_mat, 1))]).T"
   ]
  },
  {
   "cell_type": "code",
   "execution_count": 15,
   "id": "5a6a65b3",
   "metadata": {},
   "outputs": [],
   "source": [
    "#computing SVD:\n",
    "\n",
    "A = normalised_mat.T / np.sqrt(ratings_mat.shape[0] - 1)\n",
    "U, S, V = np.linalg.svd(A)"
   ]
  },
  {
   "cell_type": "code",
   "execution_count": 16,
   "id": "a66b0ef9",
   "metadata": {},
   "outputs": [],
   "source": [
    "# Calculating cosine similarity sorting by most similar and return the top N:\n",
    "\n",
    "def top_cosine_similarity(data, movie_id, top_n=10):\n",
    "    index = movie_id - 1 # Movie id starts from 1\n",
    "    movie_row = data[index, :]\n",
    "    magnitude = np.sqrt(np.einsum('ij, ij -> i', data, data))\n",
    "    similarity = np.dot(movie_row, data.T) / (magnitude[index] * magnitude)\n",
    "    sort_indexes = np.argsort(-similarity)\n",
    "    return sort_indexes[:top_n]\n",
    "\n",
    "# Helper function to print top N similar movies\n",
    "def print_similar_movies(movie_data, movie_id, top_indexes):\n",
    "    print('Recommendations for {0}: \\n'.format(\n",
    "    movie_data[movie_data.movie_id == movie_id].title.values[0]))\n",
    "    for id in top_indexes + 1:\n",
    "        print(movie_data[movie_data.movie_id == id].title.values[0])"
   ]
  },
  {
   "cell_type": "code",
   "execution_count": 17,
   "id": "298cd5c4",
   "metadata": {},
   "outputs": [
    {
     "name": "stdout",
     "output_type": "stream",
     "text": [
      "Recommendations for Toy Story (1995): \n",
      "\n",
      "Toy Story (1995)\n",
      "Georgia (1995)\n",
      "Lamerica (1994)\n",
      "Catwalk (1995)\n",
      "400 Blows, The (Les Quatre cents coups) (1959)\n",
      "Whatever It Takes (2000)\n",
      "Chushingura (1962)\n",
      "Way of the Gun, The (2000)\n",
      "Grandfather, The (El Abuelo) (1998)\n",
      "Teaching Mrs. Tingle (1999)\n"
     ]
    }
   ],
   "source": [
    "#Select k principal components to represent the movies, a movie_id to find recommendations \n",
    "#and print the top_n results.\n",
    "\n",
    "\n",
    "k = 50\n",
    "movie_id = 1 # Grab an id from movies.dat\n",
    "top_n = 10\n",
    "\n",
    "sliced = V.T[:, :k] # representative data\n",
    "indexes = top_cosine_similarity(sliced, movie_id, top_n)\n",
    "print_similar_movies(movie_data, movie_id, indexes)\n",
    "\n",
    "\n",
    "#We can change k and use different number of principal components to represent our dataset"
   ]
  },
  {
   "cell_type": "code",
   "execution_count": null,
   "id": "1bf9fac5",
   "metadata": {},
   "outputs": [],
   "source": []
  },
  {
   "cell_type": "code",
   "execution_count": null,
   "id": "de0155be",
   "metadata": {},
   "outputs": [],
   "source": []
  },
  {
   "cell_type": "code",
   "execution_count": null,
   "id": "d311fa3e",
   "metadata": {},
   "outputs": [],
   "source": [
    "#1.e. find all the movies rated as 5 stars by user id 5 and store it in ratings_1 dataframe"
   ]
  },
  {
   "cell_type": "code",
   "execution_count": 8,
   "id": "2bb3680d",
   "metadata": {},
   "outputs": [
    {
     "name": "stderr",
     "output_type": "stream",
     "text": [
      "<ipython-input-8-bf498e1348f5>:1: UserWarning: Boolean Series key will be reindexed to match DataFrame index.\n",
      "  user5_5stars=df[(df_ratings['userId']==5) & (df_ratings['rating']==5)]\n"
     ]
    },
    {
     "data": {
      "text/html": [
       "<div>\n",
       "<style scoped>\n",
       "    .dataframe tbody tr th:only-of-type {\n",
       "        vertical-align: middle;\n",
       "    }\n",
       "\n",
       "    .dataframe tbody tr th {\n",
       "        vertical-align: top;\n",
       "    }\n",
       "\n",
       "    .dataframe thead th {\n",
       "        text-align: right;\n",
       "    }\n",
       "</style>\n",
       "<table border=\"1\" class=\"dataframe\">\n",
       "  <thead>\n",
       "    <tr style=\"text-align: right;\">\n",
       "      <th></th>\n",
       "      <th>movieId</th>\n",
       "      <th>title</th>\n",
       "      <th>genres</th>\n",
       "    </tr>\n",
       "  </thead>\n",
       "  <tbody>\n",
       "    <tr>\n",
       "      <th>452</th>\n",
       "      <td>456</td>\n",
       "      <td>Fresh (1994)</td>\n",
       "      <td>Crime|Drama|Thriller</td>\n",
       "    </tr>\n",
       "    <tr>\n",
       "      <th>455</th>\n",
       "      <td>459</td>\n",
       "      <td>Getaway, The (1994)</td>\n",
       "      <td>Action|Adventure|Crime|Drama|Romance|Thriller</td>\n",
       "    </tr>\n",
       "    <tr>\n",
       "      <th>459</th>\n",
       "      <td>463</td>\n",
       "      <td>Guilty as Sin (1993)</td>\n",
       "      <td>Crime|Drama|Thriller</td>\n",
       "    </tr>\n",
       "    <tr>\n",
       "      <th>460</th>\n",
       "      <td>464</td>\n",
       "      <td>Hard Target (1993)</td>\n",
       "      <td>Action|Adventure|Crime|Thriller</td>\n",
       "    </tr>\n",
       "    <tr>\n",
       "      <th>463</th>\n",
       "      <td>467</td>\n",
       "      <td>Live Nude Girls (1995)</td>\n",
       "      <td>Comedy</td>\n",
       "    </tr>\n",
       "  </tbody>\n",
       "</table>\n",
       "</div>"
      ],
      "text/plain": [
       "     movieId                   title  \\\n",
       "452      456            Fresh (1994)   \n",
       "455      459     Getaway, The (1994)   \n",
       "459      463    Guilty as Sin (1993)   \n",
       "460      464      Hard Target (1993)   \n",
       "463      467  Live Nude Girls (1995)   \n",
       "\n",
       "                                            genres  \n",
       "452                           Crime|Drama|Thriller  \n",
       "455  Action|Adventure|Crime|Drama|Romance|Thriller  \n",
       "459                           Crime|Drama|Thriller  \n",
       "460                Action|Adventure|Crime|Thriller  \n",
       "463                                         Comedy  "
      ]
     },
     "execution_count": 8,
     "metadata": {},
     "output_type": "execute_result"
    }
   ],
   "source": [
    "user5_5stars=df[(df_ratings['userId']==5) & (df_ratings['rating']==5)]\n",
    "user5_5stars.head()"
   ]
  },
  {
   "cell_type": "code",
   "execution_count": 10,
   "id": "7c70d6d1",
   "metadata": {},
   "outputs": [
    {
     "data": {
      "text/plain": [
       "(38, 3)"
      ]
     },
     "execution_count": 10,
     "metadata": {},
     "output_type": "execute_result"
    }
   ],
   "source": [
    "user5_5stars.shape"
   ]
  },
  {
   "cell_type": "code",
   "execution_count": 9,
   "id": "fb09cb9d",
   "metadata": {},
   "outputs": [
    {
     "data": {
      "text/plain": [
       "array([456, 459, 463, 464, 467, 470, 472, 474, 477, 478, 479, 480, 481,\n",
       "       485, 486, 489, 491, 492, 493, 495, 496, 500, 502, 503, 504, 506,\n",
       "       507, 508, 509, 512, 513, 514, 515, 516, 517, 518, 519, 520])"
      ]
     },
     "execution_count": 9,
     "metadata": {},
     "output_type": "execute_result"
    }
   ],
   "source": [
    "user5_5stars['movieId'].unique()"
   ]
  },
  {
   "cell_type": "code",
   "execution_count": 25,
   "id": "06c56b6c",
   "metadata": {},
   "outputs": [
    {
     "data": {
      "text/plain": [
       "38"
      ]
     },
     "execution_count": 25,
     "metadata": {},
     "output_type": "execute_result"
    }
   ],
   "source": [
    "len(user5_5stars['movieId'].unique())\n",
    "\n",
    "#we see that 38 unique movies are rated by user_5 as 5_starts_movies"
   ]
  },
  {
   "cell_type": "code",
   "execution_count": 28,
   "id": "978c8e61",
   "metadata": {},
   "outputs": [
    {
     "name": "stderr",
     "output_type": "stream",
     "text": [
      "<ipython-input-28-9700fa7ea9e0>:1: UserWarning: Boolean Series key will be reindexed to match DataFrame index.\n",
      "  Ratings_df = df[df_ratings['rating']==5]\n"
     ]
    },
    {
     "data": {
      "text/html": [
       "<div>\n",
       "<style scoped>\n",
       "    .dataframe tbody tr th:only-of-type {\n",
       "        vertical-align: middle;\n",
       "    }\n",
       "\n",
       "    .dataframe tbody tr th {\n",
       "        vertical-align: top;\n",
       "    }\n",
       "\n",
       "    .dataframe thead th {\n",
       "        text-align: right;\n",
       "    }\n",
       "</style>\n",
       "<table border=\"1\" class=\"dataframe\">\n",
       "  <thead>\n",
       "    <tr style=\"text-align: right;\">\n",
       "      <th></th>\n",
       "      <th>movieId</th>\n",
       "      <th>title</th>\n",
       "      <th>genres</th>\n",
       "    </tr>\n",
       "  </thead>\n",
       "  <tbody>\n",
       "    <tr>\n",
       "      <th>131</th>\n",
       "      <td>133</td>\n",
       "      <td>Nueba Yol (1995)</td>\n",
       "      <td>Comedy|Drama</td>\n",
       "    </tr>\n",
       "    <tr>\n",
       "      <th>142</th>\n",
       "      <td>144</td>\n",
       "      <td>Brothers McMullen, The (1995)</td>\n",
       "      <td>Comedy</td>\n",
       "    </tr>\n",
       "    <tr>\n",
       "      <th>158</th>\n",
       "      <td>160</td>\n",
       "      <td>Congo (1995)</td>\n",
       "      <td>Action|Adventure|Mystery|Sci-Fi</td>\n",
       "    </tr>\n",
       "    <tr>\n",
       "      <th>170</th>\n",
       "      <td>172</td>\n",
       "      <td>Johnny Mnemonic (1995)</td>\n",
       "      <td>Action|Sci-Fi|Thriller</td>\n",
       "    </tr>\n",
       "    <tr>\n",
       "      <th>176</th>\n",
       "      <td>178</td>\n",
       "      <td>Love &amp; Human Remains (1993)</td>\n",
       "      <td>Comedy|Drama</td>\n",
       "    </tr>\n",
       "  </tbody>\n",
       "</table>\n",
       "</div>"
      ],
      "text/plain": [
       "     movieId                          title                           genres\n",
       "131      133               Nueba Yol (1995)                     Comedy|Drama\n",
       "142      144  Brothers McMullen, The (1995)                           Comedy\n",
       "158      160                   Congo (1995)  Action|Adventure|Mystery|Sci-Fi\n",
       "170      172         Johnny Mnemonic (1995)           Action|Sci-Fi|Thriller\n",
       "176      178    Love & Human Remains (1993)                     Comedy|Drama"
      ]
     },
     "execution_count": 28,
     "metadata": {},
     "output_type": "execute_result"
    }
   ],
   "source": [
    "Ratings_df = df[df_ratings['rating']==5]\n",
    "Ratings_df.head()"
   ]
  },
  {
   "cell_type": "code",
   "execution_count": 41,
   "id": "b0d7da0b",
   "metadata": {},
   "outputs": [
    {
     "data": {
      "text/html": [
       "<div>\n",
       "<style scoped>\n",
       "    .dataframe tbody tr th:only-of-type {\n",
       "        vertical-align: middle;\n",
       "    }\n",
       "\n",
       "    .dataframe tbody tr th {\n",
       "        vertical-align: top;\n",
       "    }\n",
       "\n",
       "    .dataframe thead th {\n",
       "        text-align: right;\n",
       "    }\n",
       "</style>\n",
       "<table border=\"1\" class=\"dataframe\">\n",
       "  <thead>\n",
       "    <tr style=\"text-align: right;\">\n",
       "      <th></th>\n",
       "      <th>userId</th>\n",
       "      <th>movieId</th>\n",
       "      <th>rating</th>\n",
       "      <th>timestamp</th>\n",
       "    </tr>\n",
       "  </thead>\n",
       "  <tbody>\n",
       "    <tr>\n",
       "      <th>451</th>\n",
       "      <td>5</td>\n",
       "      <td>2</td>\n",
       "      <td>3.0</td>\n",
       "      <td>851527569</td>\n",
       "    </tr>\n",
       "    <tr>\n",
       "      <th>452</th>\n",
       "      <td>5</td>\n",
       "      <td>11</td>\n",
       "      <td>5.0</td>\n",
       "      <td>851527751</td>\n",
       "    </tr>\n",
       "    <tr>\n",
       "      <th>453</th>\n",
       "      <td>5</td>\n",
       "      <td>17</td>\n",
       "      <td>3.0</td>\n",
       "      <td>851526935</td>\n",
       "    </tr>\n",
       "    <tr>\n",
       "      <th>454</th>\n",
       "      <td>5</td>\n",
       "      <td>60</td>\n",
       "      <td>3.0</td>\n",
       "      <td>851617589</td>\n",
       "    </tr>\n",
       "    <tr>\n",
       "      <th>455</th>\n",
       "      <td>5</td>\n",
       "      <td>62</td>\n",
       "      <td>5.0</td>\n",
       "      <td>851526935</td>\n",
       "    </tr>\n",
       "    <tr>\n",
       "      <th>...</th>\n",
       "      <td>...</td>\n",
       "      <td>...</td>\n",
       "      <td>...</td>\n",
       "      <td>...</td>\n",
       "    </tr>\n",
       "    <tr>\n",
       "      <th>512</th>\n",
       "      <td>5</td>\n",
       "      <td>1196</td>\n",
       "      <td>5.0</td>\n",
       "      <td>851617674</td>\n",
       "    </tr>\n",
       "    <tr>\n",
       "      <th>513</th>\n",
       "      <td>5</td>\n",
       "      <td>1198</td>\n",
       "      <td>5.0</td>\n",
       "      <td>851617674</td>\n",
       "    </tr>\n",
       "    <tr>\n",
       "      <th>514</th>\n",
       "      <td>5</td>\n",
       "      <td>1210</td>\n",
       "      <td>5.0</td>\n",
       "      <td>851617674</td>\n",
       "    </tr>\n",
       "    <tr>\n",
       "      <th>515</th>\n",
       "      <td>5</td>\n",
       "      <td>1291</td>\n",
       "      <td>5.0</td>\n",
       "      <td>851617728</td>\n",
       "    </tr>\n",
       "    <tr>\n",
       "      <th>516</th>\n",
       "      <td>5</td>\n",
       "      <td>1393</td>\n",
       "      <td>5.0</td>\n",
       "      <td>851527231</td>\n",
       "    </tr>\n",
       "  </tbody>\n",
       "</table>\n",
       "<p>66 rows × 4 columns</p>\n",
       "</div>"
      ],
      "text/plain": [
       "     userId  movieId  rating  timestamp\n",
       "451       5        2     3.0  851527569\n",
       "452       5       11     5.0  851527751\n",
       "453       5       17     3.0  851526935\n",
       "454       5       60     3.0  851617589\n",
       "455       5       62     5.0  851526935\n",
       "..      ...      ...     ...        ...\n",
       "512       5     1196     5.0  851617674\n",
       "513       5     1198     5.0  851617674\n",
       "514       5     1210     5.0  851617674\n",
       "515       5     1291     5.0  851617728\n",
       "516       5     1393     5.0  851527231\n",
       "\n",
       "[66 rows x 4 columns]"
      ]
     },
     "execution_count": 41,
     "metadata": {},
     "output_type": "execute_result"
    }
   ],
   "source": [
    "df_r_u5 = df_ratings[df_ratings['userId'] == 5]\n",
    "\n",
    "df_r_u5"
   ]
  },
  {
   "cell_type": "code",
   "execution_count": 12,
   "id": "c10d2067",
   "metadata": {},
   "outputs": [
    {
     "data": {
      "text/plain": [
       "array([3.5, 4. , 3. , 4.5, 5. , 2. , 1. , 2.5, 0.5, 1.5])"
      ]
     },
     "execution_count": 12,
     "metadata": {},
     "output_type": "execute_result"
    }
   ],
   "source": [
    "df_ratings.rating.unique()"
   ]
  },
  {
   "cell_type": "code",
   "execution_count": 13,
   "id": "f0ff969c",
   "metadata": {},
   "outputs": [
    {
     "data": {
      "text/plain": [
       "4.0    295135\n",
       "3.0    226202\n",
       "5.0    152562\n",
       "3.5    112926\n",
       "4.5     79848\n",
       "2.0     74706\n",
       "2.5     44791\n",
       "1.0     35144\n",
       "1.5     14029\n",
       "0.5     13232\n",
       "Name: rating, dtype: int64"
      ]
     },
     "execution_count": 13,
     "metadata": {},
     "output_type": "execute_result"
    }
   ],
   "source": [
    "df_ratings.rating.value_counts()"
   ]
  },
  {
   "cell_type": "code",
   "execution_count": 14,
   "id": "ca93af79",
   "metadata": {},
   "outputs": [
    {
     "name": "stderr",
     "output_type": "stream",
     "text": [
      "<ipython-input-14-d7d1af1c483c>:1: UserWarning: Boolean Series key will be reindexed to match DataFrame index.\n",
      "  ratings_1 = df[df_ratings['rating']==5]\n"
     ]
    },
    {
     "data": {
      "text/html": [
       "<div>\n",
       "<style scoped>\n",
       "    .dataframe tbody tr th:only-of-type {\n",
       "        vertical-align: middle;\n",
       "    }\n",
       "\n",
       "    .dataframe tbody tr th {\n",
       "        vertical-align: top;\n",
       "    }\n",
       "\n",
       "    .dataframe thead th {\n",
       "        text-align: right;\n",
       "    }\n",
       "</style>\n",
       "<table border=\"1\" class=\"dataframe\">\n",
       "  <thead>\n",
       "    <tr style=\"text-align: right;\">\n",
       "      <th></th>\n",
       "      <th>movieId</th>\n",
       "      <th>title</th>\n",
       "      <th>genres</th>\n",
       "    </tr>\n",
       "  </thead>\n",
       "  <tbody>\n",
       "    <tr>\n",
       "      <th>131</th>\n",
       "      <td>133</td>\n",
       "      <td>Nueba Yol (1995)</td>\n",
       "      <td>Comedy|Drama</td>\n",
       "    </tr>\n",
       "    <tr>\n",
       "      <th>142</th>\n",
       "      <td>144</td>\n",
       "      <td>Brothers McMullen, The (1995)</td>\n",
       "      <td>Comedy</td>\n",
       "    </tr>\n",
       "    <tr>\n",
       "      <th>158</th>\n",
       "      <td>160</td>\n",
       "      <td>Congo (1995)</td>\n",
       "      <td>Action|Adventure|Mystery|Sci-Fi</td>\n",
       "    </tr>\n",
       "    <tr>\n",
       "      <th>170</th>\n",
       "      <td>172</td>\n",
       "      <td>Johnny Mnemonic (1995)</td>\n",
       "      <td>Action|Sci-Fi|Thriller</td>\n",
       "    </tr>\n",
       "    <tr>\n",
       "      <th>176</th>\n",
       "      <td>178</td>\n",
       "      <td>Love &amp; Human Remains (1993)</td>\n",
       "      <td>Comedy|Drama</td>\n",
       "    </tr>\n",
       "    <tr>\n",
       "      <th>...</th>\n",
       "      <td>...</td>\n",
       "      <td>...</td>\n",
       "      <td>...</td>\n",
       "    </tr>\n",
       "    <tr>\n",
       "      <th>27255</th>\n",
       "      <td>131160</td>\n",
       "      <td>Oscar and the Lady in Pink (2009)</td>\n",
       "      <td>Drama</td>\n",
       "    </tr>\n",
       "    <tr>\n",
       "      <th>27265</th>\n",
       "      <td>131231</td>\n",
       "      <td>Standby (2014)</td>\n",
       "      <td>Comedy|Romance</td>\n",
       "    </tr>\n",
       "    <tr>\n",
       "      <th>27268</th>\n",
       "      <td>131241</td>\n",
       "      <td>Ants in the Pants (2000)</td>\n",
       "      <td>Comedy|Romance</td>\n",
       "    </tr>\n",
       "    <tr>\n",
       "      <th>27271</th>\n",
       "      <td>131250</td>\n",
       "      <td>No More School (2000)</td>\n",
       "      <td>Comedy</td>\n",
       "    </tr>\n",
       "    <tr>\n",
       "      <th>27273</th>\n",
       "      <td>131254</td>\n",
       "      <td>Kein Bund für's Leben (2007)</td>\n",
       "      <td>Comedy</td>\n",
       "    </tr>\n",
       "  </tbody>\n",
       "</table>\n",
       "<p>4189 rows × 3 columns</p>\n",
       "</div>"
      ],
      "text/plain": [
       "       movieId                              title  \\\n",
       "131        133                   Nueba Yol (1995)   \n",
       "142        144      Brothers McMullen, The (1995)   \n",
       "158        160                       Congo (1995)   \n",
       "170        172             Johnny Mnemonic (1995)   \n",
       "176        178        Love & Human Remains (1993)   \n",
       "...        ...                                ...   \n",
       "27255   131160  Oscar and the Lady in Pink (2009)   \n",
       "27265   131231                     Standby (2014)   \n",
       "27268   131241           Ants in the Pants (2000)   \n",
       "27271   131250              No More School (2000)   \n",
       "27273   131254       Kein Bund für's Leben (2007)   \n",
       "\n",
       "                                genres  \n",
       "131                       Comedy|Drama  \n",
       "142                             Comedy  \n",
       "158    Action|Adventure|Mystery|Sci-Fi  \n",
       "170             Action|Sci-Fi|Thriller  \n",
       "176                       Comedy|Drama  \n",
       "...                                ...  \n",
       "27255                            Drama  \n",
       "27265                   Comedy|Romance  \n",
       "27268                   Comedy|Romance  \n",
       "27271                           Comedy  \n",
       "27273                           Comedy  \n",
       "\n",
       "[4189 rows x 3 columns]"
      ]
     },
     "execution_count": 14,
     "metadata": {},
     "output_type": "execute_result"
    }
   ],
   "source": [
    "ratings_1 = df[df_ratings['rating']==5]\n",
    "ratings_1"
   ]
  },
  {
   "cell_type": "code",
   "execution_count": 15,
   "id": "a2facb79",
   "metadata": {},
   "outputs": [
    {
     "data": {
      "text/plain": [
       "(4189, 3)"
      ]
     },
     "execution_count": 15,
     "metadata": {},
     "output_type": "execute_result"
    }
   ],
   "source": [
    "ratings_1.shape"
   ]
  },
  {
   "cell_type": "code",
   "execution_count": null,
   "id": "ce62c4a3",
   "metadata": {},
   "outputs": [],
   "source": [
    "#1.f. create shallow copy of movies dataset and store the result in user_5:\n",
    "\n",
    "#lets make the dataset of all movies rated by user_5 \n",
    "#as we see below it is 66 movies."
   ]
  },
  {
   "cell_type": "code",
   "execution_count": 18,
   "id": "5757f2f0",
   "metadata": {},
   "outputs": [
    {
     "name": "stderr",
     "output_type": "stream",
     "text": [
      "<ipython-input-18-2212af84fefc>:1: UserWarning: Boolean Series key will be reindexed to match DataFrame index.\n",
      "  user5_all_rated_movies=df[(df_ratings['userId']==5)]\n"
     ]
    },
    {
     "data": {
      "text/html": [
       "<div>\n",
       "<style scoped>\n",
       "    .dataframe tbody tr th:only-of-type {\n",
       "        vertical-align: middle;\n",
       "    }\n",
       "\n",
       "    .dataframe tbody tr th {\n",
       "        vertical-align: top;\n",
       "    }\n",
       "\n",
       "    .dataframe thead th {\n",
       "        text-align: right;\n",
       "    }\n",
       "</style>\n",
       "<table border=\"1\" class=\"dataframe\">\n",
       "  <thead>\n",
       "    <tr style=\"text-align: right;\">\n",
       "      <th></th>\n",
       "      <th>movieId</th>\n",
       "      <th>title</th>\n",
       "      <th>genres</th>\n",
       "    </tr>\n",
       "  </thead>\n",
       "  <tbody>\n",
       "    <tr>\n",
       "      <th>451</th>\n",
       "      <td>455</td>\n",
       "      <td>Free Willy (1993)</td>\n",
       "      <td>Adventure|Children|Drama</td>\n",
       "    </tr>\n",
       "    <tr>\n",
       "      <th>452</th>\n",
       "      <td>456</td>\n",
       "      <td>Fresh (1994)</td>\n",
       "      <td>Crime|Drama|Thriller</td>\n",
       "    </tr>\n",
       "    <tr>\n",
       "      <th>453</th>\n",
       "      <td>457</td>\n",
       "      <td>Fugitive, The (1993)</td>\n",
       "      <td>Thriller</td>\n",
       "    </tr>\n",
       "    <tr>\n",
       "      <th>454</th>\n",
       "      <td>458</td>\n",
       "      <td>Geronimo: An American Legend (1993)</td>\n",
       "      <td>Drama|Western</td>\n",
       "    </tr>\n",
       "    <tr>\n",
       "      <th>455</th>\n",
       "      <td>459</td>\n",
       "      <td>Getaway, The (1994)</td>\n",
       "      <td>Action|Adventure|Crime|Drama|Romance|Thriller</td>\n",
       "    </tr>\n",
       "  </tbody>\n",
       "</table>\n",
       "</div>"
      ],
      "text/plain": [
       "     movieId                                title  \\\n",
       "451      455                    Free Willy (1993)   \n",
       "452      456                         Fresh (1994)   \n",
       "453      457                 Fugitive, The (1993)   \n",
       "454      458  Geronimo: An American Legend (1993)   \n",
       "455      459                  Getaway, The (1994)   \n",
       "\n",
       "                                            genres  \n",
       "451                       Adventure|Children|Drama  \n",
       "452                           Crime|Drama|Thriller  \n",
       "453                                       Thriller  \n",
       "454                                  Drama|Western  \n",
       "455  Action|Adventure|Crime|Drama|Romance|Thriller  "
      ]
     },
     "execution_count": 18,
     "metadata": {},
     "output_type": "execute_result"
    }
   ],
   "source": [
    "user5_all_rated_movies=df[(df_ratings['userId']==5)]\n",
    "user5_all_rated_movies.head()"
   ]
  },
  {
   "cell_type": "code",
   "execution_count": 19,
   "id": "eaec008a",
   "metadata": {},
   "outputs": [
    {
     "data": {
      "text/plain": [
       "(66, 3)"
      ]
     },
     "execution_count": 19,
     "metadata": {},
     "output_type": "execute_result"
    }
   ],
   "source": [
    "user5_all_rated_movies.shape"
   ]
  },
  {
   "cell_type": "code",
   "execution_count": 21,
   "id": "bc29648a",
   "metadata": {},
   "outputs": [
    {
     "data": {
      "text/plain": [
       "66"
      ]
     },
     "execution_count": 21,
     "metadata": {},
     "output_type": "execute_result"
    }
   ],
   "source": [
    "len(user5_all_rated_movies.movieId.unique())"
   ]
  },
  {
   "cell_type": "code",
   "execution_count": null,
   "id": "ee806dcc",
   "metadata": {},
   "outputs": [],
   "source": [
    "#1.g. train recommender system using SVD object and predict the ratings for user id 5"
   ]
  },
  {
   "cell_type": "code",
   "execution_count": null,
   "id": "6c111444",
   "metadata": {},
   "outputs": [],
   "source": [
    "data = pd.io.parsers.read_csv('ml-1m/ratings.dat', \n",
    "    names=['user_id', 'movie_id', 'rating', 'time'],\n",
    "    engine='python', encoding='ISO-8859-1', delimiter='::')\n",
    "movie_data = pd.io.parsers.read_csv('ml-1m/movies.dat',\n",
    "    names=['movie_id', 'title', 'genre'],\n",
    "    engine='python', encoding='ISO-8859-1', delimiter='::')"
   ]
  },
  {
   "cell_type": "code",
   "execution_count": 57,
   "id": "3a5ef7e9",
   "metadata": {},
   "outputs": [
    {
     "data": {
      "text/plain": [
       "((800000, 4), (199999, 4))"
      ]
     },
     "execution_count": 57,
     "metadata": {},
     "output_type": "execute_result"
    }
   ],
   "source": [
    "r_cols = ['user_id', 'movie_id', 'rating', 'unix_timestamp']\n",
    "ratings_train = data[0:800000]\n",
    "ratings_test = data[800001:1000000]\n",
    "ratings_train.shape, ratings_test.shape"
   ]
  },
  {
   "cell_type": "code",
   "execution_count": 58,
   "id": "fec622c8",
   "metadata": {},
   "outputs": [
    {
     "data": {
      "text/html": [
       "<div>\n",
       "<style scoped>\n",
       "    .dataframe tbody tr th:only-of-type {\n",
       "        vertical-align: middle;\n",
       "    }\n",
       "\n",
       "    .dataframe tbody tr th {\n",
       "        vertical-align: top;\n",
       "    }\n",
       "\n",
       "    .dataframe thead th {\n",
       "        text-align: right;\n",
       "    }\n",
       "</style>\n",
       "<table border=\"1\" class=\"dataframe\">\n",
       "  <thead>\n",
       "    <tr style=\"text-align: right;\">\n",
       "      <th></th>\n",
       "      <th>user_id</th>\n",
       "      <th>movie_id</th>\n",
       "      <th>rating</th>\n",
       "      <th>time</th>\n",
       "    </tr>\n",
       "  </thead>\n",
       "  <tbody>\n",
       "    <tr>\n",
       "      <th>0</th>\n",
       "      <td>1</td>\n",
       "      <td>1193</td>\n",
       "      <td>5</td>\n",
       "      <td>978300760</td>\n",
       "    </tr>\n",
       "    <tr>\n",
       "      <th>1</th>\n",
       "      <td>1</td>\n",
       "      <td>661</td>\n",
       "      <td>3</td>\n",
       "      <td>978302109</td>\n",
       "    </tr>\n",
       "    <tr>\n",
       "      <th>2</th>\n",
       "      <td>1</td>\n",
       "      <td>914</td>\n",
       "      <td>3</td>\n",
       "      <td>978301968</td>\n",
       "    </tr>\n",
       "    <tr>\n",
       "      <th>3</th>\n",
       "      <td>1</td>\n",
       "      <td>3408</td>\n",
       "      <td>4</td>\n",
       "      <td>978300275</td>\n",
       "    </tr>\n",
       "    <tr>\n",
       "      <th>4</th>\n",
       "      <td>1</td>\n",
       "      <td>2355</td>\n",
       "      <td>5</td>\n",
       "      <td>978824291</td>\n",
       "    </tr>\n",
       "    <tr>\n",
       "      <th>...</th>\n",
       "      <td>...</td>\n",
       "      <td>...</td>\n",
       "      <td>...</td>\n",
       "      <td>...</td>\n",
       "    </tr>\n",
       "    <tr>\n",
       "      <th>799995</th>\n",
       "      <td>4794</td>\n",
       "      <td>904</td>\n",
       "      <td>5</td>\n",
       "      <td>962995909</td>\n",
       "    </tr>\n",
       "    <tr>\n",
       "      <th>799996</th>\n",
       "      <td>4794</td>\n",
       "      <td>908</td>\n",
       "      <td>5</td>\n",
       "      <td>962996028</td>\n",
       "    </tr>\n",
       "    <tr>\n",
       "      <th>799997</th>\n",
       "      <td>4794</td>\n",
       "      <td>913</td>\n",
       "      <td>5</td>\n",
       "      <td>962995617</td>\n",
       "    </tr>\n",
       "    <tr>\n",
       "      <th>799998</th>\n",
       "      <td>4794</td>\n",
       "      <td>919</td>\n",
       "      <td>5</td>\n",
       "      <td>962996139</td>\n",
       "    </tr>\n",
       "    <tr>\n",
       "      <th>799999</th>\n",
       "      <td>4794</td>\n",
       "      <td>3072</td>\n",
       "      <td>5</td>\n",
       "      <td>963030385</td>\n",
       "    </tr>\n",
       "  </tbody>\n",
       "</table>\n",
       "<p>800000 rows × 4 columns</p>\n",
       "</div>"
      ],
      "text/plain": [
       "        user_id  movie_id  rating       time\n",
       "0             1      1193       5  978300760\n",
       "1             1       661       3  978302109\n",
       "2             1       914       3  978301968\n",
       "3             1      3408       4  978300275\n",
       "4             1      2355       5  978824291\n",
       "...         ...       ...     ...        ...\n",
       "799995     4794       904       5  962995909\n",
       "799996     4794       908       5  962996028\n",
       "799997     4794       913       5  962995617\n",
       "799998     4794       919       5  962996139\n",
       "799999     4794      3072       5  963030385\n",
       "\n",
       "[800000 rows x 4 columns]"
      ]
     },
     "execution_count": 58,
     "metadata": {},
     "output_type": "execute_result"
    }
   ],
   "source": [
    "ratings_train"
   ]
  },
  {
   "cell_type": "code",
   "execution_count": 59,
   "id": "ac72adc8",
   "metadata": {},
   "outputs": [],
   "source": [
    "n_users = ratings_train.user_id.unique().shape[0]\n",
    "n_items = ratings_train.movie_id.unique().shape[0]"
   ]
  },
  {
   "cell_type": "code",
   "execution_count": 61,
   "id": "b21c0cd7",
   "metadata": {},
   "outputs": [],
   "source": [
    "data_matrix = np.zeros((n_users, n_items))\n",
    "#for line in ratings_train.itertuples():\n",
    "    #data_matrix[line[1]-1, line[2]-1] = line[3]"
   ]
  },
  {
   "cell_type": "code",
   "execution_count": 63,
   "id": "21f8e77b",
   "metadata": {},
   "outputs": [],
   "source": [
    "from sklearn.metrics.pairwise import pairwise_distances \n",
    "user_similarity = pairwise_distances(data_matrix, metric='cosine')\n",
    "item_similarity = pairwise_distances(data_matrix.T, metric='cosine')"
   ]
  },
  {
   "cell_type": "code",
   "execution_count": 35,
   "id": "72b6fdbe",
   "metadata": {},
   "outputs": [],
   "source": [
    "def predict(ratings, similarity, type='user'):\n",
    "    if type == 'user':\n",
    "        mean_user_rating = ratings.mean(axis=1)\n",
    "        #We use np.newaxis so that mean_user_rating has same format as ratings\n",
    "        ratings_diff = (ratings - mean_user_rating[:, np.newaxis])\n",
    "        pred = mean_user_rating[:, np.newaxis] + similarity.dot(ratings_diff) / np.array([np.abs(similarity).sum(axis=1)]).T\n",
    "    elif type == 'item':\n",
    "        pred = ratings.dot(similarity) / np.array([np.abs(similarity).sum(axis=1)])\n",
    "    return pred"
   ]
  },
  {
   "cell_type": "code",
   "execution_count": 64,
   "id": "1801e0b7",
   "metadata": {},
   "outputs": [],
   "source": [
    "user_prediction = predict(data_matrix, user_similarity, type='user')\n",
    "item_prediction = predict(data_matrix, item_similarity, type='item')"
   ]
  },
  {
   "cell_type": "code",
   "execution_count": 65,
   "id": "72c19c34",
   "metadata": {},
   "outputs": [
    {
     "data": {
      "text/plain": [
       "array([[0., 0., 0., ..., 0., 0., 0.],\n",
       "       [0., 0., 0., ..., 0., 0., 0.],\n",
       "       [0., 0., 0., ..., 0., 0., 0.],\n",
       "       ...,\n",
       "       [0., 0., 0., ..., 0., 0., 0.],\n",
       "       [0., 0., 0., ..., 0., 0., 0.],\n",
       "       [0., 0., 0., ..., 0., 0., 0.]])"
      ]
     },
     "execution_count": 65,
     "metadata": {},
     "output_type": "execute_result"
    }
   ],
   "source": [
    "user_prediction"
   ]
  },
  {
   "cell_type": "code",
   "execution_count": 76,
   "id": "8c0bcca5",
   "metadata": {},
   "outputs": [
    {
     "data": {
      "text/plain": [
       "array([[0., 0., 0., ..., 0., 0., 0.],\n",
       "       [0., 0., 0., ..., 0., 0., 0.],\n",
       "       [0., 0., 0., ..., 0., 0., 0.],\n",
       "       ...,\n",
       "       [0., 0., 0., ..., 0., 0., 0.],\n",
       "       [0., 0., 0., ..., 0., 0., 0.],\n",
       "       [0., 0., 0., ..., 0., 0., 0.]])"
      ]
     },
     "execution_count": 76,
     "metadata": {},
     "output_type": "execute_result"
    }
   ],
   "source": [
    "predict(data_matrix, user_similarity, type='user')"
   ]
  },
  {
   "cell_type": "code",
   "execution_count": null,
   "id": "4fca22c2",
   "metadata": {},
   "outputs": [],
   "source": []
  },
  {
   "cell_type": "code",
   "execution_count": null,
   "id": "bf93ceeb",
   "metadata": {},
   "outputs": [],
   "source": [
    "def movie_rater(movie_df,num, genre=None):\n",
    "    userID = 5\n",
    "    rating_list = []\n",
    "    while num > 0:\n",
    "        if genre:\n",
    "            movie = movie_df[movie_df['genres'].str.contains(genre)].sample(1)\n",
    "        else:\n",
    "            movie = movie_df.sample(1)\n",
    "        print(movie)\n",
    "        rating = input('How do you rate this movie on a scale of 1-5, press n if you have not seen :\\n')\n",
    "        if rating == 'n':\n",
    "            continue\n",
    "        else:\n",
    "            rating_one_movie = {'userId':userID,'movieId':movie['movieId'].values[0],'rating':rating}\n",
    "            rating_list.append(rating_one_movie) \n",
    "            num -= 1\n",
    "    return rating_list"
   ]
  },
  {
   "cell_type": "code",
   "execution_count": null,
   "id": "cd139575",
   "metadata": {},
   "outputs": [],
   "source": [
    "user_rating = movie_rater(df_movies,4,'Comedy')"
   ]
  },
  {
   "cell_type": "code",
   "execution_count": null,
   "id": "9fe2d921",
   "metadata": {},
   "outputs": [],
   "source": [
    "user_rating\n",
    "\n",
    "[{'userId': 5, 'movieId': 55245, 'rating': '5'},\n",
    " {'userId': 5, 'movieId': 2491, 'rating': '4'},\n",
    " {'userId': 5, 'movieId': 4718, 'rating': '4'},\n",
    " {'userId': 5, 'movieId': 5990, 'rating': '3'}]"
   ]
  },
  {
   "cell_type": "code",
   "execution_count": null,
   "id": "621d3313",
   "metadata": {},
   "outputs": [],
   "source": []
  },
  {
   "cell_type": "code",
   "execution_count": null,
   "id": "3f8a1c11",
   "metadata": {},
   "outputs": [],
   "source": [
    "#1.h.print the top 10 movie recommendations for the user id 5"
   ]
  },
  {
   "cell_type": "code",
   "execution_count": 22,
   "id": "9dfc02d4",
   "metadata": {},
   "outputs": [
    {
     "name": "stdout",
     "output_type": "stream",
     "text": [
      "userId\n",
      "1       4993 5952 7153 8507 1196 1198 8636 151 223 253\n",
      "2              62 70 260 266 480 541 589 924 1196 1210\n",
      "3               50 175 223 260 316 318 329 457 480 490\n",
      "4               454 733 457 10 350 356 368 370 377 431\n",
      "5                11 62 141 150 260 318 364 368 377 380\n",
      "                             ...                      \n",
      "7116      58 260 318 589 1073 1136 1196 1197 1210 1246\n",
      "7117                   6 11 21 23 47 50 95 104 145 161\n",
      "7118    593 608 908 1079 1193 1230 1234 1235 1238 1244\n",
      "7119               1 17 32 110 266 318 356 364 457 474\n",
      "7120                 21 34 110 141 151 168 260 1 17 48\n",
      "Length: 7120, dtype: object\n"
     ]
    }
   ],
   "source": [
    "import pandas as pd\n",
    "from sklearn.metrics.pairwise import cosine_similarity\n",
    "from sklearn.preprocessing import scale\n",
    "\n",
    "\n",
    "def predict(l):\n",
    "    # finds the userIds corresponding to the top 5 similarities\n",
    "    # calculate the prediction according to the formula\n",
    "    return (df[l.index] * l).sum(axis=1) / l.sum()\n",
    "\n",
    "\n",
    "# use userID as columns for convinience when interpretering the forumla\n",
    "df = pd.read_csv('ratings.csv').pivot(columns='userId',\n",
    "                                                index='movieId',\n",
    "                                                values='rating')\n",
    "\n",
    "similarity = pd.DataFrame(cosine_similarity(\n",
    "    scale(df.T.fillna(-1000))),\n",
    "    index=df.columns,\n",
    "    columns=df.columns)\n",
    "# iterate each column (userID),\n",
    "# for each userID find the highest five similarities\n",
    "# and use to calculate the prediction for that user,\n",
    "# use fillna so that original ratings dont change\n",
    "\n",
    "res = df.apply(lambda col: ' '.join('{}'.format(mid) for mid in col.fillna(\n",
    "    predict(similarity[col.name].nlargest(6).iloc[1:])).nlargest(10).index))\n",
    "print(res)"
   ]
  },
  {
   "cell_type": "code",
   "execution_count": 24,
   "id": "2f6cd560",
   "metadata": {},
   "outputs": [
    {
     "name": "stdout",
     "output_type": "stream",
     "text": [
      "Here - printed the top 10 movie recommendations for the user_id_5: \n"
     ]
    },
    {
     "data": {
      "text/plain": [
       "'11 62 141 150 260 318 364 368 377 380'"
      ]
     },
     "execution_count": 24,
     "metadata": {},
     "output_type": "execute_result"
    }
   ],
   "source": [
    "#1.h.Here - printed the top 10 movie recommendations for the user id 5\n",
    "print('Here - printed the top 10 movie recommendations for the user_id_5: ')\n",
    "res.iloc[4]"
   ]
  },
  {
   "cell_type": "code",
   "execution_count": null,
   "id": "f21c1195",
   "metadata": {},
   "outputs": [],
   "source": []
  },
  {
   "cell_type": "code",
   "execution_count": null,
   "id": "7a382d38",
   "metadata": {},
   "outputs": [],
   "source": []
  },
  {
   "cell_type": "code",
   "execution_count": null,
   "id": "77edaed5",
   "metadata": {},
   "outputs": [],
   "source": []
  }
 ],
 "metadata": {
  "kernelspec": {
   "display_name": "Python 3",
   "language": "python",
   "name": "python3"
  },
  "language_info": {
   "codemirror_mode": {
    "name": "ipython",
    "version": 3
   },
   "file_extension": ".py",
   "mimetype": "text/x-python",
   "name": "python",
   "nbconvert_exporter": "python",
   "pygments_lexer": "ipython3",
   "version": "3.8.12"
  }
 },
 "nbformat": 4,
 "nbformat_minor": 5
}
